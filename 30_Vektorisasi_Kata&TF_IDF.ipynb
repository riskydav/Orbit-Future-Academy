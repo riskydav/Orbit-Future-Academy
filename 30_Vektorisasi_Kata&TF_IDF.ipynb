{
  "nbformat": 4,
  "nbformat_minor": 0,
  "metadata": {
    "colab": {
      "name": "30_Vektorisasi-Kata&TF-IDF.ipynb",
      "provenance": [],
      "collapsed_sections": [],
      "include_colab_link": true
    },
    "kernelspec": {
      "name": "python3",
      "display_name": "Python 3"
    },
    "language_info": {
      "name": "python"
    }
  },
  "cells": [
    {
      "cell_type": "markdown",
      "metadata": {
        "id": "view-in-github",
        "colab_type": "text"
      },
      "source": [
        "<a href=\"https://colab.research.google.com/github/riskydav/Orbit-Future-Academy/blob/main/30_Vektorisasi_Kata%26TF_IDF.ipynb\" target=\"_parent\"><img src=\"https://colab.research.google.com/assets/colab-badge.svg\" alt=\"Open In Colab\"/></a>"
      ]
    },
    {
      "cell_type": "markdown",
      "metadata": {
        "id": "FRdKfvPbd1Ox"
      },
      "source": [
        "Jumat, 22 Okt 2021 (TF-IDF in NLP)"
      ]
    },
    {
      "cell_type": "markdown",
      "metadata": {
        "id": "oH200ITFeF9u"
      },
      "source": [
        "[Link Referensi Materi](https://medium.com/analytics-vidhya/tf-idf-term-frequency-technique-easiest-explanation-for-text-classification-in-nlp-with-code-8ca3912e58c3)"
      ]
    },
    {
      "cell_type": "code",
      "metadata": {
        "id": "RP6hW8NDVzaI"
      },
      "source": [
        "# Import Library yang dibutuhkan\n",
        "\n",
        "import nltk\n",
        "from nltk.tokenize import word_tokenize\n",
        "from gensim.models import Word2Vec\n",
        "import re"
      ],
      "execution_count": 1,
      "outputs": []
    },
    {
      "cell_type": "code",
      "metadata": {
        "colab": {
          "base_uri": "https://localhost:8080/"
        },
        "id": "gKe7ZPUfmjYA",
        "outputId": "95a2ecd0-e7ba-47ab-8340-a71422416749"
      },
      "source": [
        "nltk.download('punkt')"
      ],
      "execution_count": 2,
      "outputs": [
        {
          "output_type": "stream",
          "name": "stdout",
          "text": [
            "[nltk_data] Downloading package punkt to /root/nltk_data...\n",
            "[nltk_data]   Unzipping tokenizers/punkt.zip.\n"
          ]
        },
        {
          "output_type": "execute_result",
          "data": {
            "text/plain": [
              "True"
            ]
          },
          "metadata": {},
          "execution_count": 2
        }
      ]
    },
    {
      "cell_type": "code",
      "metadata": {
        "id": "rmfhSdxekrEh"
      },
      "source": [
        "komentar = [\n",
        "          \"Pengiriman cepat, kualitas produk baik, penjual ramah\",\n",
        "          \"Produk tidak sesuai gambar, tapi memang sesuai harga\",\n",
        "          \"penjual responsif dan ramah, produk berfungsi dengan baik\",\n",
        "          \"Lumayan untuk harga segini sudah dapat produk bagus\",\n",
        "          \"Tidak sesuai ekspektasi, produk berbeda dengan gambar\",    \n",
        "]"
      ],
      "execution_count": 3,
      "outputs": []
    },
    {
      "cell_type": "code",
      "metadata": {
        "colab": {
          "base_uri": "https://localhost:8080/"
        },
        "id": "QX4OeAmEmsdL",
        "outputId": "c06d2ee9-4e8e-497e-83e6-6a2d64aab638"
      },
      "source": [
        "komentar = [re.sub(r'[,.]', '', k) for k in komentar]\n",
        "komentar"
      ],
      "execution_count": 4,
      "outputs": [
        {
          "output_type": "execute_result",
          "data": {
            "text/plain": [
              "['Pengiriman cepat kualitas produk baik penjual ramah',\n",
              " 'Produk tidak sesuai gambar tapi memang sesuai harga',\n",
              " 'penjual responsif dan ramah produk berfungsi dengan baik',\n",
              " 'Lumayan untuk harga segini sudah dapat produk bagus',\n",
              " 'Tidak sesuai ekspektasi produk berbeda dengan gambar']"
            ]
          },
          "metadata": {},
          "execution_count": 4
        }
      ]
    },
    {
      "cell_type": "code",
      "metadata": {
        "colab": {
          "base_uri": "https://localhost:8080/"
        },
        "id": "KJPae-LBmH3N",
        "outputId": "48de9dea-5b11-4532-efed-78612e807b17"
      },
      "source": [
        "corpus = [word_tokenize(k.lower()) for k in komentar]\n",
        "corpus"
      ],
      "execution_count": 5,
      "outputs": [
        {
          "output_type": "execute_result",
          "data": {
            "text/plain": [
              "[['pengiriman', 'cepat', 'kualitas', 'produk', 'baik', 'penjual', 'ramah'],\n",
              " ['produk', 'tidak', 'sesuai', 'gambar', 'tapi', 'memang', 'sesuai', 'harga'],\n",
              " ['penjual',\n",
              "  'responsif',\n",
              "  'dan',\n",
              "  'ramah',\n",
              "  'produk',\n",
              "  'berfungsi',\n",
              "  'dengan',\n",
              "  'baik'],\n",
              " ['lumayan', 'untuk', 'harga', 'segini', 'sudah', 'dapat', 'produk', 'bagus'],\n",
              " ['tidak', 'sesuai', 'ekspektasi', 'produk', 'berbeda', 'dengan', 'gambar']]"
            ]
          },
          "metadata": {},
          "execution_count": 5
        }
      ]
    },
    {
      "cell_type": "markdown",
      "metadata": {
        "id": "ilqs6oh8nJyx"
      },
      "source": [
        "## Train Word2Vec Model"
      ]
    },
    {
      "cell_type": "code",
      "metadata": {
        "id": "Zr3eUJ0Tmfmt"
      },
      "source": [
        "model = Word2Vec(corpus, size=100, window=5, workers=2, min_count=1, iter=100)\n"
      ],
      "execution_count": 6,
      "outputs": []
    },
    {
      "cell_type": "markdown",
      "metadata": {
        "id": "W3GOj9NDobAK"
      },
      "source": [
        "## Menyimpan model"
      ]
    },
    {
      "cell_type": "code",
      "metadata": {
        "id": "4me7Ne3gn3OM"
      },
      "source": [
        "model.save(\"komentar_app.w2v\")"
      ],
      "execution_count": 7,
      "outputs": []
    },
    {
      "cell_type": "markdown",
      "metadata": {
        "id": "6_RJ3olWocLH"
      },
      "source": [
        "## Load Model\n",
        "> Menggunakan pretrained model (model yang sudah dibuat sebelumnya)"
      ]
    },
    {
      "cell_type": "code",
      "metadata": {
        "id": "LIRAsG-Jn9Hn"
      },
      "source": [
        "model = Word2Vec.load(\"komentar_app.w2v\")\n"
      ],
      "execution_count": 8,
      "outputs": []
    },
    {
      "cell_type": "markdown",
      "metadata": {
        "id": "X6jijQCcorCg"
      },
      "source": [
        "## Menampilkan Informasi dari Model yang Sudah Dibuat"
      ]
    },
    {
      "cell_type": "code",
      "metadata": {
        "id": "XCc72C54ot_w"
      },
      "source": [
        "# model.wv adalah Word Vector dari Model yang sudah dibuat\n",
        "w2v = model.wv"
      ],
      "execution_count": 9,
      "outputs": []
    },
    {
      "cell_type": "code",
      "metadata": {
        "colab": {
          "base_uri": "https://localhost:8080/"
        },
        "id": "ZKrvWt9Io422",
        "outputId": "9f4ca276-0bbe-496c-f1f7-909a068db446"
      },
      "source": [
        "# Menampilkan semua vocabulary yang sudah di-train\n",
        "w2v.index2word"
      ],
      "execution_count": 10,
      "outputs": [
        {
          "output_type": "execute_result",
          "data": {
            "text/plain": [
              "['produk',\n",
              " 'sesuai',\n",
              " 'baik',\n",
              " 'penjual',\n",
              " 'ramah',\n",
              " 'tidak',\n",
              " 'gambar',\n",
              " 'harga',\n",
              " 'dengan',\n",
              " 'pengiriman',\n",
              " 'cepat',\n",
              " 'kualitas',\n",
              " 'tapi',\n",
              " 'memang',\n",
              " 'responsif',\n",
              " 'dan',\n",
              " 'berfungsi',\n",
              " 'lumayan',\n",
              " 'untuk',\n",
              " 'segini',\n",
              " 'sudah',\n",
              " 'dapat',\n",
              " 'bagus',\n",
              " 'ekspektasi',\n",
              " 'berbeda']"
            ]
          },
          "metadata": {},
          "execution_count": 10
        }
      ]
    },
    {
      "cell_type": "code",
      "metadata": {
        "colab": {
          "base_uri": "https://localhost:8080/"
        },
        "id": "cINrhrKWpDwK",
        "outputId": "d60d8c00-1c9a-4528-c67d-176faa6076ba"
      },
      "source": [
        "# Menampilkan vector yang sudah dibuat dari dokumen teks\n",
        "w2v.vectors"
      ],
      "execution_count": 11,
      "outputs": [
        {
          "output_type": "execute_result",
          "data": {
            "text/plain": [
              "array([[-0.00376511,  0.00230411,  0.00127691, ...,  0.00481715,\n",
              "        -0.00061536, -0.00385315],\n",
              "       [-0.00275832,  0.00011876, -0.00028054, ..., -0.00484097,\n",
              "         0.00490178, -0.00163865],\n",
              "       [ 0.00045693,  0.0028028 , -0.00309005, ..., -0.00153546,\n",
              "        -0.00092449,  0.00142562],\n",
              "       ...,\n",
              "       [ 0.0044556 , -0.00026476,  0.0049705 , ..., -0.00263383,\n",
              "         0.00041283, -0.00333268],\n",
              "       [-0.00395191, -0.00411311, -0.00336198, ..., -0.00410323,\n",
              "         0.00250206,  0.00403834],\n",
              "       [-0.00039681,  0.00106076, -0.00129517, ..., -0.00260984,\n",
              "        -0.00072069, -0.00226691]], dtype=float32)"
            ]
          },
          "metadata": {},
          "execution_count": 11
        }
      ]
    },
    {
      "cell_type": "code",
      "metadata": {
        "colab": {
          "base_uri": "https://localhost:8080/"
        },
        "id": "lyQPHKDQpfLi",
        "outputId": "83f385c3-2c0b-4f85-bf45-9aad0325c164"
      },
      "source": [
        "# Menampilkan ukuran vektor\n",
        "w2v.vector_size"
      ],
      "execution_count": 12,
      "outputs": [
        {
          "output_type": "execute_result",
          "data": {
            "text/plain": [
              "100"
            ]
          },
          "metadata": {},
          "execution_count": 12
        }
      ]
    },
    {
      "cell_type": "code",
      "metadata": {
        "colab": {
          "base_uri": "https://localhost:8080/"
        },
        "id": "u1htiGu_p36V",
        "outputId": "ffc0b2b7-f17f-4cc0-bcab-eb9ede64093b"
      },
      "source": [
        "# Menampilkan vektor kata yang terdapat pada vocabulary\n",
        "w2v['berbeda']"
      ],
      "execution_count": 13,
      "outputs": [
        {
          "output_type": "execute_result",
          "data": {
            "text/plain": [
              "array([-3.9681268e-04,  1.0607647e-03, -1.2951748e-03, -4.0110131e-03,\n",
              "        1.7767879e-03,  7.0112082e-04, -3.4762415e-05, -2.5767763e-03,\n",
              "       -5.4165197e-05,  6.4463809e-04, -2.8787716e-03,  4.1634757e-03,\n",
              "       -2.3076714e-03, -1.9470479e-03,  2.9624037e-03, -8.3152135e-04,\n",
              "        3.6981581e-03, -1.7499495e-03,  1.0320039e-04,  1.8830049e-03,\n",
              "       -3.5022839e-03,  2.7337568e-04, -2.7179406e-03, -2.9369918e-04,\n",
              "       -1.2320961e-03,  3.5870392e-03, -4.9118400e-03,  6.2082626e-04,\n",
              "        4.4182357e-03,  7.5695390e-04, -4.4466066e-03,  3.4955931e-03,\n",
              "        4.2986684e-03, -4.1091689e-03, -4.9286627e-04, -4.7167871e-04,\n",
              "        1.8359589e-03, -4.9826824e-03, -2.2524698e-03, -3.6858416e-03,\n",
              "        1.5688445e-03, -7.4549217e-04,  4.1253562e-03,  1.2743945e-03,\n",
              "       -2.9421914e-03, -1.8831816e-03, -3.1438570e-03, -3.6425886e-04,\n",
              "       -3.9700405e-03,  3.3727703e-03, -5.0351205e-03, -4.3316083e-03,\n",
              "        3.8216016e-03,  2.1462734e-03,  2.4576525e-03,  2.6761886e-04,\n",
              "       -4.0294244e-03,  8.8101975e-04,  2.4230771e-03,  1.7885659e-03,\n",
              "        4.4299914e-03, -2.3586252e-03,  3.6223868e-03,  1.9196962e-03,\n",
              "       -3.1685366e-03,  3.0592750e-03,  2.9154557e-03, -1.5816688e-04,\n",
              "        9.6317398e-04, -3.7771571e-04,  3.3222339e-03,  2.8267908e-03,\n",
              "        2.1699795e-03,  3.7524495e-03, -1.8488640e-03, -3.6334137e-03,\n",
              "        4.0444569e-03,  2.9849911e-03,  3.0076674e-03,  3.7513857e-03,\n",
              "        8.2504324e-04, -4.3447944e-03, -4.5228712e-03, -5.9040677e-04,\n",
              "       -1.6285381e-03, -1.4299281e-03, -3.9882618e-03, -3.8087887e-03,\n",
              "        3.1312408e-03, -4.7227680e-03,  4.0526711e-03, -1.1848331e-03,\n",
              "        5.6079251e-04, -2.6647365e-03, -1.1470802e-03,  7.6570665e-04,\n",
              "        3.6763274e-03, -2.6098425e-03, -7.2068779e-04, -2.2669081e-03],\n",
              "      dtype=float32)"
            ]
          },
          "metadata": {},
          "execution_count": 13
        }
      ]
    },
    {
      "cell_type": "markdown",
      "metadata": {
        "id": "TPklgZ0AqX4O"
      },
      "source": [
        "## Sanity Check\n",
        "> Untuk mengetahui apakah model yang sudah kita train sudah memiliki makna atau masih perlu dilakukan training lanjutan"
      ]
    },
    {
      "cell_type": "markdown",
      "metadata": {
        "id": "LYb7IP93qin1"
      },
      "source": [
        "### Similar Word"
      ]
    },
    {
      "cell_type": "code",
      "metadata": {
        "colab": {
          "base_uri": "https://localhost:8080/"
        },
        "id": "-0xUDnlFp-6n",
        "outputId": "b3535d4e-3789-41fe-c952-92c99c454b57"
      },
      "source": [
        "# Menampilkan kata yang memiliki kemiripan makna dengan kata `produk`\n",
        "# atau dalam kata lain yaitu melihat hubungan semantik dari kata `produk` dengan kata lainnya.\n",
        "w2v.similar_by_word(\"produk\", topn=5)"
      ],
      "execution_count": 14,
      "outputs": [
        {
          "output_type": "execute_result",
          "data": {
            "text/plain": [
              "[('tidak', 0.3373914361000061),\n",
              " ('lumayan', 0.19001582264900208),\n",
              " ('untuk', 0.177025705575943),\n",
              " ('tapi', 0.12955370545387268),\n",
              " ('dan', 0.1265520453453064)]"
            ]
          },
          "metadata": {},
          "execution_count": 14
        }
      ]
    },
    {
      "cell_type": "markdown",
      "metadata": {
        "id": "AZ7e5HNHte2X"
      },
      "source": [
        "---"
      ]
    },
    {
      "cell_type": "markdown",
      "metadata": {
        "id": "4VvPSHL9tawr"
      },
      "source": [
        "## TF-IDF"
      ]
    },
    {
      "cell_type": "code",
      "metadata": {
        "colab": {
          "base_uri": "https://localhost:8080/"
        },
        "id": "AEnPHEPH1uzL",
        "outputId": "a9c61486-6926-400e-9a6e-4c195f77d169"
      },
      "source": [
        "# Menggunakan dataset yang sama seperti pada Word2vec. \n",
        "komentar"
      ],
      "execution_count": 15,
      "outputs": [
        {
          "output_type": "execute_result",
          "data": {
            "text/plain": [
              "['Pengiriman cepat kualitas produk baik penjual ramah',\n",
              " 'Produk tidak sesuai gambar tapi memang sesuai harga',\n",
              " 'penjual responsif dan ramah produk berfungsi dengan baik',\n",
              " 'Lumayan untuk harga segini sudah dapat produk bagus',\n",
              " 'Tidak sesuai ekspektasi produk berbeda dengan gambar']"
            ]
          },
          "metadata": {},
          "execution_count": 15
        }
      ]
    },
    {
      "cell_type": "code",
      "metadata": {
        "id": "DYJzS0h9shOE"
      },
      "source": [
        "# Import Library yang dibutuhkan\n",
        "from sklearn.feature_extraction.text import TfidfVectorizer\n",
        "import pandas as pd\n",
        "\n",
        "vectorizer = TfidfVectorizer()\n",
        "result = vectorizer.fit_transform(komentar) #tfidf"
      ],
      "execution_count": 16,
      "outputs": []
    },
    {
      "cell_type": "code",
      "metadata": {
        "colab": {
          "base_uri": "https://localhost:8080/"
        },
        "id": "Ev0sewgU15Be",
        "outputId": "1a786228-f2d5-49fe-904b-430eeba470b4"
      },
      "source": [
        "# Menampilkan nama fitur / token dari dataset\n",
        "print(vectorizer.get_feature_names())"
      ],
      "execution_count": 17,
      "outputs": [
        {
          "output_type": "stream",
          "name": "stdout",
          "text": [
            "['bagus', 'baik', 'berbeda', 'berfungsi', 'cepat', 'dan', 'dapat', 'dengan', 'ekspektasi', 'gambar', 'harga', 'kualitas', 'lumayan', 'memang', 'pengiriman', 'penjual', 'produk', 'ramah', 'responsif', 'segini', 'sesuai', 'sudah', 'tapi', 'tidak', 'untuk']\n"
          ]
        },
        {
          "output_type": "stream",
          "name": "stderr",
          "text": [
            "/usr/local/lib/python3.7/dist-packages/sklearn/utils/deprecation.py:87: FutureWarning: Function get_feature_names is deprecated; get_feature_names is deprecated in 1.0 and will be removed in 1.2. Please use get_feature_names_out instead.\n",
            "  warnings.warn(msg, category=FutureWarning)\n"
          ]
        }
      ]
    },
    {
      "cell_type": "code",
      "metadata": {
        "colab": {
          "base_uri": "https://localhost:8080/"
        },
        "id": "zKAohjpG10w5",
        "outputId": "2f338da0-50ad-4290-abf6-1200ab46be3c"
      },
      "source": [
        "# Menampilkan hasil vektor kata\n",
        "print(result)"
      ],
      "execution_count": 18,
      "outputs": [
        {
          "output_type": "stream",
          "name": "stdout",
          "text": [
            "  (0, 17)\t0.354491454113195\n",
            "  (0, 15)\t0.354491454113195\n",
            "  (0, 1)\t0.354491454113195\n",
            "  (0, 16)\t0.20936836335513379\n",
            "  (0, 11)\t0.4393830201954138\n",
            "  (0, 4)\t0.4393830201954138\n",
            "  (0, 14)\t0.4393830201954138\n",
            "  (1, 10)\t0.3097679976786992\n",
            "  (1, 13)\t0.38394944871221537\n",
            "  (1, 22)\t0.38394944871221537\n",
            "  (1, 9)\t0.3097679976786992\n",
            "  (1, 20)\t0.6195359953573985\n",
            "  (1, 23)\t0.3097679976786992\n",
            "  (1, 16)\t0.18295396952806844\n",
            "  (2, 7)\t0.33411913201775406\n",
            "  (2, 3)\t0.4141320520639498\n",
            "  (2, 5)\t0.4141320520639498\n",
            "  (2, 18)\t0.4141320520639498\n",
            "  (2, 17)\t0.33411913201775406\n",
            "  (2, 15)\t0.33411913201775406\n",
            "  (2, 1)\t0.33411913201775406\n",
            "  (2, 16)\t0.1973361417447812\n",
            "  (3, 0)\t0.3813025879625254\n",
            "  (3, 6)\t0.3813025879625254\n",
            "  (3, 21)\t0.3813025879625254\n",
            "  (3, 19)\t0.3813025879625254\n",
            "  (3, 24)\t0.3813025879625254\n",
            "  (3, 12)\t0.3813025879625254\n",
            "  (3, 10)\t0.30763252709183986\n",
            "  (3, 16)\t0.18169272619885407\n",
            "  (4, 2)\t0.4549817658305219\n",
            "  (4, 8)\t0.4549817658305219\n",
            "  (4, 7)\t0.36707642387391093\n",
            "  (4, 9)\t0.36707642387391093\n",
            "  (4, 20)\t0.36707642387391093\n",
            "  (4, 23)\t0.36707642387391093\n",
            "  (4, 16)\t0.21680124922897376\n"
          ]
        }
      ]
    },
    {
      "cell_type": "markdown",
      "metadata": {
        "id": "gvtQRTZX8Llu"
      },
      "source": [
        "**(4, 16)\t0.21680124922897376**\n",
        "Artinya:\n",
        "> Terdapat kata dengan index ke-16 pada `vectorizer.get_feature_names()` dalam dokumen ke-5 (index dari nol)\n",
        ">\n",
        "> dengan bobot TF-IDF 0.21680124922897376"
      ]
    },
    {
      "cell_type": "code",
      "metadata": {
        "colab": {
          "base_uri": "https://localhost:8080/"
        },
        "id": "Cx-59-0B8POw",
        "outputId": "4687945b-f21b-47bc-871f-88c4c4fbd619"
      },
      "source": [
        "print(f\"Teks dokumen ke-{4+1}:\\n{komentar[4]}\")\n",
        "print(f\"Fitur Name ke-16: {vectorizer.get_feature_names()[16]}\")"
      ],
      "execution_count": 19,
      "outputs": [
        {
          "output_type": "stream",
          "name": "stdout",
          "text": [
            "Teks dokumen ke-5:\n",
            "Tidak sesuai ekspektasi produk berbeda dengan gambar\n",
            "Fitur Name ke-16: produk\n"
          ]
        },
        {
          "output_type": "stream",
          "name": "stderr",
          "text": [
            "/usr/local/lib/python3.7/dist-packages/sklearn/utils/deprecation.py:87: FutureWarning: Function get_feature_names is deprecated; get_feature_names is deprecated in 1.0 and will be removed in 1.2. Please use get_feature_names_out instead.\n",
            "  warnings.warn(msg, category=FutureWarning)\n"
          ]
        }
      ]
    },
    {
      "cell_type": "markdown",
      "metadata": {
        "id": "QDZxrB4p8STH"
      },
      "source": [
        "> Dapat diketahui bahwa di dalam dokumen ke-1 (index ke-0) terdapat kata produk"
      ]
    },
    {
      "cell_type": "code",
      "metadata": {
        "id": "SDBhuCu-2V7Z",
        "colab": {
          "base_uri": "https://localhost:8080/"
        },
        "outputId": "4849e71b-1c56-48ae-8aff-768101e8fd9c"
      },
      "source": [
        "# Menampilkan hasil TF-IDF dalam bentuk list dua dimensi\n",
        "result.todense()"
      ],
      "execution_count": 20,
      "outputs": [
        {
          "output_type": "execute_result",
          "data": {
            "text/plain": [
              "matrix([[0.        , 0.35449145, 0.        , 0.        , 0.43938302,\n",
              "         0.        , 0.        , 0.        , 0.        , 0.        ,\n",
              "         0.        , 0.43938302, 0.        , 0.        , 0.43938302,\n",
              "         0.35449145, 0.20936836, 0.35449145, 0.        , 0.        ,\n",
              "         0.        , 0.        , 0.        , 0.        , 0.        ],\n",
              "        [0.        , 0.        , 0.        , 0.        , 0.        ,\n",
              "         0.        , 0.        , 0.        , 0.        , 0.309768  ,\n",
              "         0.309768  , 0.        , 0.        , 0.38394945, 0.        ,\n",
              "         0.        , 0.18295397, 0.        , 0.        , 0.        ,\n",
              "         0.619536  , 0.        , 0.38394945, 0.309768  , 0.        ],\n",
              "        [0.        , 0.33411913, 0.        , 0.41413205, 0.        ,\n",
              "         0.41413205, 0.        , 0.33411913, 0.        , 0.        ,\n",
              "         0.        , 0.        , 0.        , 0.        , 0.        ,\n",
              "         0.33411913, 0.19733614, 0.33411913, 0.41413205, 0.        ,\n",
              "         0.        , 0.        , 0.        , 0.        , 0.        ],\n",
              "        [0.38130259, 0.        , 0.        , 0.        , 0.        ,\n",
              "         0.        , 0.38130259, 0.        , 0.        , 0.        ,\n",
              "         0.30763253, 0.        , 0.38130259, 0.        , 0.        ,\n",
              "         0.        , 0.18169273, 0.        , 0.        , 0.38130259,\n",
              "         0.        , 0.38130259, 0.        , 0.        , 0.38130259],\n",
              "        [0.        , 0.        , 0.45498177, 0.        , 0.        ,\n",
              "         0.        , 0.        , 0.36707642, 0.45498177, 0.36707642,\n",
              "         0.        , 0.        , 0.        , 0.        , 0.        ,\n",
              "         0.        , 0.21680125, 0.        , 0.        , 0.        ,\n",
              "         0.36707642, 0.        , 0.        , 0.36707642, 0.        ]])"
            ]
          },
          "metadata": {},
          "execution_count": 20
        }
      ]
    },
    {
      "cell_type": "code",
      "metadata": {
        "colab": {
          "base_uri": "https://localhost:8080/",
          "height": 890
        },
        "id": "9j2RVkIb2ZkT",
        "outputId": "8827beab-5b94-49dc-df2e-5c09437c0e5b"
      },
      "source": [
        "# Membuat dataframe dari list dua dimensi tersebut. \n",
        "# Dilakukan transpose agar nama kolom berubah menjadi nama baris\n",
        "# Nama kolom diubah menjadi urutan dokumen\n",
        "df = pd.DataFrame(result.todense().T,\n",
        "                  index=vectorizer.get_feature_names(),\n",
        "                  columns=[f\"D{i+1}\" for i in range(len(komentar))])\n",
        "df"
      ],
      "execution_count": 21,
      "outputs": [
        {
          "output_type": "stream",
          "name": "stderr",
          "text": [
            "/usr/local/lib/python3.7/dist-packages/sklearn/utils/deprecation.py:87: FutureWarning: Function get_feature_names is deprecated; get_feature_names is deprecated in 1.0 and will be removed in 1.2. Please use get_feature_names_out instead.\n",
            "  warnings.warn(msg, category=FutureWarning)\n"
          ]
        },
        {
          "output_type": "execute_result",
          "data": {
            "text/html": [
              "<div>\n",
              "<style scoped>\n",
              "    .dataframe tbody tr th:only-of-type {\n",
              "        vertical-align: middle;\n",
              "    }\n",
              "\n",
              "    .dataframe tbody tr th {\n",
              "        vertical-align: top;\n",
              "    }\n",
              "\n",
              "    .dataframe thead th {\n",
              "        text-align: right;\n",
              "    }\n",
              "</style>\n",
              "<table border=\"1\" class=\"dataframe\">\n",
              "  <thead>\n",
              "    <tr style=\"text-align: right;\">\n",
              "      <th></th>\n",
              "      <th>D1</th>\n",
              "      <th>D2</th>\n",
              "      <th>D3</th>\n",
              "      <th>D4</th>\n",
              "      <th>D5</th>\n",
              "    </tr>\n",
              "  </thead>\n",
              "  <tbody>\n",
              "    <tr>\n",
              "      <th>bagus</th>\n",
              "      <td>0.000000</td>\n",
              "      <td>0.000000</td>\n",
              "      <td>0.000000</td>\n",
              "      <td>0.381303</td>\n",
              "      <td>0.000000</td>\n",
              "    </tr>\n",
              "    <tr>\n",
              "      <th>baik</th>\n",
              "      <td>0.354491</td>\n",
              "      <td>0.000000</td>\n",
              "      <td>0.334119</td>\n",
              "      <td>0.000000</td>\n",
              "      <td>0.000000</td>\n",
              "    </tr>\n",
              "    <tr>\n",
              "      <th>berbeda</th>\n",
              "      <td>0.000000</td>\n",
              "      <td>0.000000</td>\n",
              "      <td>0.000000</td>\n",
              "      <td>0.000000</td>\n",
              "      <td>0.454982</td>\n",
              "    </tr>\n",
              "    <tr>\n",
              "      <th>berfungsi</th>\n",
              "      <td>0.000000</td>\n",
              "      <td>0.000000</td>\n",
              "      <td>0.414132</td>\n",
              "      <td>0.000000</td>\n",
              "      <td>0.000000</td>\n",
              "    </tr>\n",
              "    <tr>\n",
              "      <th>cepat</th>\n",
              "      <td>0.439383</td>\n",
              "      <td>0.000000</td>\n",
              "      <td>0.000000</td>\n",
              "      <td>0.000000</td>\n",
              "      <td>0.000000</td>\n",
              "    </tr>\n",
              "    <tr>\n",
              "      <th>dan</th>\n",
              "      <td>0.000000</td>\n",
              "      <td>0.000000</td>\n",
              "      <td>0.414132</td>\n",
              "      <td>0.000000</td>\n",
              "      <td>0.000000</td>\n",
              "    </tr>\n",
              "    <tr>\n",
              "      <th>dapat</th>\n",
              "      <td>0.000000</td>\n",
              "      <td>0.000000</td>\n",
              "      <td>0.000000</td>\n",
              "      <td>0.381303</td>\n",
              "      <td>0.000000</td>\n",
              "    </tr>\n",
              "    <tr>\n",
              "      <th>dengan</th>\n",
              "      <td>0.000000</td>\n",
              "      <td>0.000000</td>\n",
              "      <td>0.334119</td>\n",
              "      <td>0.000000</td>\n",
              "      <td>0.367076</td>\n",
              "    </tr>\n",
              "    <tr>\n",
              "      <th>ekspektasi</th>\n",
              "      <td>0.000000</td>\n",
              "      <td>0.000000</td>\n",
              "      <td>0.000000</td>\n",
              "      <td>0.000000</td>\n",
              "      <td>0.454982</td>\n",
              "    </tr>\n",
              "    <tr>\n",
              "      <th>gambar</th>\n",
              "      <td>0.000000</td>\n",
              "      <td>0.309768</td>\n",
              "      <td>0.000000</td>\n",
              "      <td>0.000000</td>\n",
              "      <td>0.367076</td>\n",
              "    </tr>\n",
              "    <tr>\n",
              "      <th>harga</th>\n",
              "      <td>0.000000</td>\n",
              "      <td>0.309768</td>\n",
              "      <td>0.000000</td>\n",
              "      <td>0.307633</td>\n",
              "      <td>0.000000</td>\n",
              "    </tr>\n",
              "    <tr>\n",
              "      <th>kualitas</th>\n",
              "      <td>0.439383</td>\n",
              "      <td>0.000000</td>\n",
              "      <td>0.000000</td>\n",
              "      <td>0.000000</td>\n",
              "      <td>0.000000</td>\n",
              "    </tr>\n",
              "    <tr>\n",
              "      <th>lumayan</th>\n",
              "      <td>0.000000</td>\n",
              "      <td>0.000000</td>\n",
              "      <td>0.000000</td>\n",
              "      <td>0.381303</td>\n",
              "      <td>0.000000</td>\n",
              "    </tr>\n",
              "    <tr>\n",
              "      <th>memang</th>\n",
              "      <td>0.000000</td>\n",
              "      <td>0.383949</td>\n",
              "      <td>0.000000</td>\n",
              "      <td>0.000000</td>\n",
              "      <td>0.000000</td>\n",
              "    </tr>\n",
              "    <tr>\n",
              "      <th>pengiriman</th>\n",
              "      <td>0.439383</td>\n",
              "      <td>0.000000</td>\n",
              "      <td>0.000000</td>\n",
              "      <td>0.000000</td>\n",
              "      <td>0.000000</td>\n",
              "    </tr>\n",
              "    <tr>\n",
              "      <th>penjual</th>\n",
              "      <td>0.354491</td>\n",
              "      <td>0.000000</td>\n",
              "      <td>0.334119</td>\n",
              "      <td>0.000000</td>\n",
              "      <td>0.000000</td>\n",
              "    </tr>\n",
              "    <tr>\n",
              "      <th>produk</th>\n",
              "      <td>0.209368</td>\n",
              "      <td>0.182954</td>\n",
              "      <td>0.197336</td>\n",
              "      <td>0.181693</td>\n",
              "      <td>0.216801</td>\n",
              "    </tr>\n",
              "    <tr>\n",
              "      <th>ramah</th>\n",
              "      <td>0.354491</td>\n",
              "      <td>0.000000</td>\n",
              "      <td>0.334119</td>\n",
              "      <td>0.000000</td>\n",
              "      <td>0.000000</td>\n",
              "    </tr>\n",
              "    <tr>\n",
              "      <th>responsif</th>\n",
              "      <td>0.000000</td>\n",
              "      <td>0.000000</td>\n",
              "      <td>0.414132</td>\n",
              "      <td>0.000000</td>\n",
              "      <td>0.000000</td>\n",
              "    </tr>\n",
              "    <tr>\n",
              "      <th>segini</th>\n",
              "      <td>0.000000</td>\n",
              "      <td>0.000000</td>\n",
              "      <td>0.000000</td>\n",
              "      <td>0.381303</td>\n",
              "      <td>0.000000</td>\n",
              "    </tr>\n",
              "    <tr>\n",
              "      <th>sesuai</th>\n",
              "      <td>0.000000</td>\n",
              "      <td>0.619536</td>\n",
              "      <td>0.000000</td>\n",
              "      <td>0.000000</td>\n",
              "      <td>0.367076</td>\n",
              "    </tr>\n",
              "    <tr>\n",
              "      <th>sudah</th>\n",
              "      <td>0.000000</td>\n",
              "      <td>0.000000</td>\n",
              "      <td>0.000000</td>\n",
              "      <td>0.381303</td>\n",
              "      <td>0.000000</td>\n",
              "    </tr>\n",
              "    <tr>\n",
              "      <th>tapi</th>\n",
              "      <td>0.000000</td>\n",
              "      <td>0.383949</td>\n",
              "      <td>0.000000</td>\n",
              "      <td>0.000000</td>\n",
              "      <td>0.000000</td>\n",
              "    </tr>\n",
              "    <tr>\n",
              "      <th>tidak</th>\n",
              "      <td>0.000000</td>\n",
              "      <td>0.309768</td>\n",
              "      <td>0.000000</td>\n",
              "      <td>0.000000</td>\n",
              "      <td>0.367076</td>\n",
              "    </tr>\n",
              "    <tr>\n",
              "      <th>untuk</th>\n",
              "      <td>0.000000</td>\n",
              "      <td>0.000000</td>\n",
              "      <td>0.000000</td>\n",
              "      <td>0.381303</td>\n",
              "      <td>0.000000</td>\n",
              "    </tr>\n",
              "  </tbody>\n",
              "</table>\n",
              "</div>"
            ],
            "text/plain": [
              "                  D1        D2        D3        D4        D5\n",
              "bagus       0.000000  0.000000  0.000000  0.381303  0.000000\n",
              "baik        0.354491  0.000000  0.334119  0.000000  0.000000\n",
              "berbeda     0.000000  0.000000  0.000000  0.000000  0.454982\n",
              "berfungsi   0.000000  0.000000  0.414132  0.000000  0.000000\n",
              "cepat       0.439383  0.000000  0.000000  0.000000  0.000000\n",
              "dan         0.000000  0.000000  0.414132  0.000000  0.000000\n",
              "dapat       0.000000  0.000000  0.000000  0.381303  0.000000\n",
              "dengan      0.000000  0.000000  0.334119  0.000000  0.367076\n",
              "ekspektasi  0.000000  0.000000  0.000000  0.000000  0.454982\n",
              "gambar      0.000000  0.309768  0.000000  0.000000  0.367076\n",
              "harga       0.000000  0.309768  0.000000  0.307633  0.000000\n",
              "kualitas    0.439383  0.000000  0.000000  0.000000  0.000000\n",
              "lumayan     0.000000  0.000000  0.000000  0.381303  0.000000\n",
              "memang      0.000000  0.383949  0.000000  0.000000  0.000000\n",
              "pengiriman  0.439383  0.000000  0.000000  0.000000  0.000000\n",
              "penjual     0.354491  0.000000  0.334119  0.000000  0.000000\n",
              "produk      0.209368  0.182954  0.197336  0.181693  0.216801\n",
              "ramah       0.354491  0.000000  0.334119  0.000000  0.000000\n",
              "responsif   0.000000  0.000000  0.414132  0.000000  0.000000\n",
              "segini      0.000000  0.000000  0.000000  0.381303  0.000000\n",
              "sesuai      0.000000  0.619536  0.000000  0.000000  0.367076\n",
              "sudah       0.000000  0.000000  0.000000  0.381303  0.000000\n",
              "tapi        0.000000  0.383949  0.000000  0.000000  0.000000\n",
              "tidak       0.000000  0.309768  0.000000  0.000000  0.367076\n",
              "untuk       0.000000  0.000000  0.000000  0.381303  0.000000"
            ]
          },
          "metadata": {},
          "execution_count": 21
        }
      ]
    },
    {
      "cell_type": "markdown",
      "metadata": {
        "id": "1ODlrrrp9H3b"
      },
      "source": [
        "Kata **tidak** memiliki bobot lebih tinggi pada dokumen ke-5 daripada bobot pada dokumen ke-2"
      ]
    }
  ]
}