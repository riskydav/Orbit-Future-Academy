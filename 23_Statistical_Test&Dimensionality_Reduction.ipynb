{
  "nbformat": 4,
  "nbformat_minor": 0,
  "metadata": {
    "colab": {
      "name": "23_Statistical-Test&Dimensionality-Reduction.ipynb",
      "provenance": [],
      "include_colab_link": true
    },
    "kernelspec": {
      "name": "python3",
      "display_name": "Python 3"
    },
    "language_info": {
      "name": "python"
    }
  },
  "cells": [
    {
      "cell_type": "markdown",
      "metadata": {
        "id": "view-in-github",
        "colab_type": "text"
      },
      "source": [
        "<a href=\"https://colab.research.google.com/github/riskydav/Orbit-Future-Academy/blob/main/23_Statistical_Test%26Dimensionality_Reduction.ipynb\" target=\"_parent\"><img src=\"https://colab.research.google.com/assets/colab-badge.svg\" alt=\"Open In Colab\"/></a>"
      ]
    },
    {
      "cell_type": "markdown",
      "metadata": {
        "id": "kc7O19yTVXDX"
      },
      "source": [
        "Senin, 11 Oktober 2021"
      ]
    },
    {
      "cell_type": "markdown",
      "metadata": {
        "id": "cNzIDuWSmDgM"
      },
      "source": [
        "# 1) Contoh Kasus Uji Beda\n",
        "Sebuah lembaga pelatihan bahasa inggris ingin mengetahui apakah pelatihan mereka berhasil meningkatkan skor TOEFL pesertanya. Mereka lalu menganalisa skor TOEFL sebelum dan sesudah pelatihan. Dengan tingkat kepercayaan 95%, apakah pelatihan ini berhasil?\n",
        "\n",
        "![alt text](https://drive.google.com/uc?id=1QN1HbirK1jx5hwlFVEGJUHM64GNjuS1p)\n",
        "\n",
        "\n"
      ]
    },
    {
      "cell_type": "code",
      "metadata": {
        "id": "JuDgnkw0l419"
      },
      "source": [
        "#Library\n",
        "import pandas as pd\n",
        "import numpy as np\n",
        "from scipy import stats\n",
        "from sklearn.preprocessing import MinMaxScaler\n",
        "from sklearn.preprocessing import StandardScaler\n",
        "from sklearn.feature_selection import SelectKBest, f_classif\n",
        "from sklearn.model_selection import train_test_split\n",
        "import time\n",
        "from sklearn.neighbors import KNeighborsClassifier\n",
        "from sklearn import metrics\n",
        "from sklearn.decomposition import PCA\n",
        "from sklearn.discriminant_analysis import LinearDiscriminantAnalysis\n",
        "import matplotlib.pyplot as plt\n",
        "%matplotlib inline  "
      ],
      "execution_count": 1,
      "outputs": []
    },
    {
      "cell_type": "markdown",
      "metadata": {
        "id": "enm1JfVqwg2n"
      },
      "source": [
        "Membuat hipotesis\n",
        "\n",
        "Ho : Nilai TOEFL sesudah pelatihan <= sebelum pelatihan\n",
        "\n",
        "Ha : Nilai TOEFL sesudah pelatihan > sebelum pelatihan"
      ]
    },
    {
      "cell_type": "code",
      "metadata": {
        "colab": {
          "base_uri": "https://localhost:8080/",
          "height": 423
        },
        "id": "AgVflauDwvgS",
        "outputId": "ac7a4f8f-7ea9-44ce-c867-bb4624aa40dc"
      },
      "source": [
        "toefl = pd.read_csv('https://raw.githubusercontent.com/riskydav/Orbit-Future-Academy/main/Dataset/skor_toefl.csv')\n",
        "toefl"
      ],
      "execution_count": 2,
      "outputs": [
        {
          "output_type": "execute_result",
          "data": {
            "text/html": [
              "<div>\n",
              "<style scoped>\n",
              "    .dataframe tbody tr th:only-of-type {\n",
              "        vertical-align: middle;\n",
              "    }\n",
              "\n",
              "    .dataframe tbody tr th {\n",
              "        vertical-align: top;\n",
              "    }\n",
              "\n",
              "    .dataframe thead th {\n",
              "        text-align: right;\n",
              "    }\n",
              "</style>\n",
              "<table border=\"1\" class=\"dataframe\">\n",
              "  <thead>\n",
              "    <tr style=\"text-align: right;\">\n",
              "      <th></th>\n",
              "      <th>Sebelum</th>\n",
              "      <th>Sesudah</th>\n",
              "    </tr>\n",
              "  </thead>\n",
              "  <tbody>\n",
              "    <tr>\n",
              "      <th>0</th>\n",
              "      <td>429</td>\n",
              "      <td>569</td>\n",
              "    </tr>\n",
              "    <tr>\n",
              "      <th>1</th>\n",
              "      <td>443</td>\n",
              "      <td>599</td>\n",
              "    </tr>\n",
              "    <tr>\n",
              "      <th>2</th>\n",
              "      <td>408</td>\n",
              "      <td>612</td>\n",
              "    </tr>\n",
              "    <tr>\n",
              "      <th>3</th>\n",
              "      <td>459</td>\n",
              "      <td>536</td>\n",
              "    </tr>\n",
              "    <tr>\n",
              "      <th>4</th>\n",
              "      <td>401</td>\n",
              "      <td>572</td>\n",
              "    </tr>\n",
              "    <tr>\n",
              "      <th>...</th>\n",
              "      <td>...</td>\n",
              "      <td>...</td>\n",
              "    </tr>\n",
              "    <tr>\n",
              "      <th>94</th>\n",
              "      <td>496</td>\n",
              "      <td>552</td>\n",
              "    </tr>\n",
              "    <tr>\n",
              "      <th>95</th>\n",
              "      <td>413</td>\n",
              "      <td>544</td>\n",
              "    </tr>\n",
              "    <tr>\n",
              "      <th>96</th>\n",
              "      <td>400</td>\n",
              "      <td>531</td>\n",
              "    </tr>\n",
              "    <tr>\n",
              "      <th>97</th>\n",
              "      <td>471</td>\n",
              "      <td>561</td>\n",
              "    </tr>\n",
              "    <tr>\n",
              "      <th>98</th>\n",
              "      <td>443</td>\n",
              "      <td>588</td>\n",
              "    </tr>\n",
              "  </tbody>\n",
              "</table>\n",
              "<p>99 rows × 2 columns</p>\n",
              "</div>"
            ],
            "text/plain": [
              "    Sebelum  Sesudah\n",
              "0       429      569\n",
              "1       443      599\n",
              "2       408      612\n",
              "3       459      536\n",
              "4       401      572\n",
              "..      ...      ...\n",
              "94      496      552\n",
              "95      413      544\n",
              "96      400      531\n",
              "97      471      561\n",
              "98      443      588\n",
              "\n",
              "[99 rows x 2 columns]"
            ]
          },
          "metadata": {},
          "execution_count": 2
        }
      ]
    },
    {
      "cell_type": "markdown",
      "metadata": {
        "id": "d4_pQVkuxfMk"
      },
      "source": [
        "Menentukan uji statistik\n",
        "\n",
        "![alt text](https://drive.google.com/uc?id=1asHY6TCNsltT7O8H6CmlEqQxQPgKH-6d)\n",
        "\n",
        "Meski datanya ada 2, namun masih dari orang yang sama sehingga termasuk uji beda 2 kelompok berhubungan. Datanya numerik dan jumlahnya juga cukup banyak sehingga menurut teorema limit pusat yang dibahas minggu lalu, distribusi datanya mendekati normal. Menurut tabel diatas, uji statistik yang sesuai adalah \"paired sample t-test\". Di python uji ini tersedia di scipy.stats dengan nama \"ttest_rel\""
      ]
    },
    {
      "cell_type": "code",
      "metadata": {
        "colab": {
          "base_uri": "https://localhost:8080/"
        },
        "id": "i20ZTsqdw6J6",
        "outputId": "797e81fa-d0a2-4462-8a24-859fb682f781"
      },
      "source": [
        "#Melakukan uji t\n",
        "uji_t = stats.ttest_rel(toefl['Sesudah'], toefl['Sebelum']) #hasilnya: (statistik hitungnya (t-hitung), pvalue)\n",
        "print('nilai t-hitung = ', uji_t[0])\n",
        "print('nilai p-value = ', uji_t[1])"
      ],
      "execution_count": 3,
      "outputs": [
        {
          "output_type": "stream",
          "name": "stdout",
          "text": [
            "nilai t-hitung =  30.255038012916643\n",
            "nilai p-value =  1.638101871655264e-51\n"
          ]
        }
      ]
    },
    {
      "cell_type": "markdown",
      "metadata": {
        "id": "FydGBAmq0LyY"
      },
      "source": [
        "Berdasarkan hasil diatas, p-value = 1,6 x 10^(-51) < alpha (5%). Maka Ho ditolak, terdapat peningkatan yang signifikan dari TOEFL bahasa Inggris peserta pelatihan"
      ]
    },
    {
      "cell_type": "markdown",
      "metadata": {
        "id": "uzzvacgS1kOu"
      },
      "source": [
        "# 2) Contoh dimensionality reduction (Latihan untuk student)\n",
        "Pada latihan ini kita akan mengklasifikasi data genre musik. Disini kita akan membuat beberapa model KNN dengan menggunakan data asli dan data yang dimensinya sudah direduksi. Tugas kalian adalah membandingkan akurasi dan lama training antara data asli dan data yang sudah direduksi."
      ]
    },
    {
      "cell_type": "code",
      "metadata": {
        "colab": {
          "base_uri": "https://localhost:8080/",
          "height": 461
        },
        "id": "EZe1xL54lVNR",
        "outputId": "858a1a9c-1f95-4603-aff3-f26e19b3e44a"
      },
      "source": [
        "music = pd.read_csv('https://raw.githubusercontent.com/riskydav/Orbit-Future-Academy/main/Dataset/music_genre.csv')\n",
        "music2 = music.copy()\n",
        "music2.dropna(inplace=True)\n",
        "del music2['Artist Name']\n",
        "del music2['Track Name']\n",
        "music2"
      ],
      "execution_count": 5,
      "outputs": [
        {
          "output_type": "execute_result",
          "data": {
            "text/html": [
              "<div>\n",
              "<style scoped>\n",
              "    .dataframe tbody tr th:only-of-type {\n",
              "        vertical-align: middle;\n",
              "    }\n",
              "\n",
              "    .dataframe tbody tr th {\n",
              "        vertical-align: top;\n",
              "    }\n",
              "\n",
              "    .dataframe thead th {\n",
              "        text-align: right;\n",
              "    }\n",
              "</style>\n",
              "<table border=\"1\" class=\"dataframe\">\n",
              "  <thead>\n",
              "    <tr style=\"text-align: right;\">\n",
              "      <th></th>\n",
              "      <th>Popularity</th>\n",
              "      <th>danceability</th>\n",
              "      <th>energy</th>\n",
              "      <th>key</th>\n",
              "      <th>loudness</th>\n",
              "      <th>mode</th>\n",
              "      <th>speechiness</th>\n",
              "      <th>acousticness</th>\n",
              "      <th>instrumentalness</th>\n",
              "      <th>liveness</th>\n",
              "      <th>valence</th>\n",
              "      <th>tempo</th>\n",
              "      <th>duration_in min/ms</th>\n",
              "      <th>time_signature</th>\n",
              "      <th>Class</th>\n",
              "    </tr>\n",
              "  </thead>\n",
              "  <tbody>\n",
              "    <tr>\n",
              "      <th>1</th>\n",
              "      <td>54.0</td>\n",
              "      <td>0.382</td>\n",
              "      <td>0.814</td>\n",
              "      <td>3.0</td>\n",
              "      <td>-7.230</td>\n",
              "      <td>1</td>\n",
              "      <td>0.0406</td>\n",
              "      <td>0.001100</td>\n",
              "      <td>0.004010</td>\n",
              "      <td>0.1010</td>\n",
              "      <td>0.5690</td>\n",
              "      <td>116.454</td>\n",
              "      <td>251733.0</td>\n",
              "      <td>4</td>\n",
              "      <td>10</td>\n",
              "    </tr>\n",
              "    <tr>\n",
              "      <th>2</th>\n",
              "      <td>35.0</td>\n",
              "      <td>0.434</td>\n",
              "      <td>0.614</td>\n",
              "      <td>6.0</td>\n",
              "      <td>-8.334</td>\n",
              "      <td>1</td>\n",
              "      <td>0.0525</td>\n",
              "      <td>0.486000</td>\n",
              "      <td>0.000196</td>\n",
              "      <td>0.3940</td>\n",
              "      <td>0.7870</td>\n",
              "      <td>147.681</td>\n",
              "      <td>109667.0</td>\n",
              "      <td>4</td>\n",
              "      <td>6</td>\n",
              "    </tr>\n",
              "    <tr>\n",
              "      <th>4</th>\n",
              "      <td>53.0</td>\n",
              "      <td>0.167</td>\n",
              "      <td>0.975</td>\n",
              "      <td>2.0</td>\n",
              "      <td>-4.279</td>\n",
              "      <td>1</td>\n",
              "      <td>0.2160</td>\n",
              "      <td>0.000169</td>\n",
              "      <td>0.016100</td>\n",
              "      <td>0.1720</td>\n",
              "      <td>0.0918</td>\n",
              "      <td>199.060</td>\n",
              "      <td>229960.0</td>\n",
              "      <td>4</td>\n",
              "      <td>10</td>\n",
              "    </tr>\n",
              "    <tr>\n",
              "      <th>5</th>\n",
              "      <td>53.0</td>\n",
              "      <td>0.235</td>\n",
              "      <td>0.977</td>\n",
              "      <td>6.0</td>\n",
              "      <td>0.878</td>\n",
              "      <td>1</td>\n",
              "      <td>0.1070</td>\n",
              "      <td>0.003530</td>\n",
              "      <td>0.006040</td>\n",
              "      <td>0.1720</td>\n",
              "      <td>0.2410</td>\n",
              "      <td>152.952</td>\n",
              "      <td>208133.0</td>\n",
              "      <td>4</td>\n",
              "      <td>6</td>\n",
              "    </tr>\n",
              "    <tr>\n",
              "      <th>6</th>\n",
              "      <td>48.0</td>\n",
              "      <td>0.674</td>\n",
              "      <td>0.658</td>\n",
              "      <td>5.0</td>\n",
              "      <td>-9.647</td>\n",
              "      <td>0</td>\n",
              "      <td>0.1040</td>\n",
              "      <td>0.404000</td>\n",
              "      <td>0.000001</td>\n",
              "      <td>0.0981</td>\n",
              "      <td>0.6770</td>\n",
              "      <td>143.292</td>\n",
              "      <td>329387.0</td>\n",
              "      <td>4</td>\n",
              "      <td>2</td>\n",
              "    </tr>\n",
              "    <tr>\n",
              "      <th>...</th>\n",
              "      <td>...</td>\n",
              "      <td>...</td>\n",
              "      <td>...</td>\n",
              "      <td>...</td>\n",
              "      <td>...</td>\n",
              "      <td>...</td>\n",
              "      <td>...</td>\n",
              "      <td>...</td>\n",
              "      <td>...</td>\n",
              "      <td>...</td>\n",
              "      <td>...</td>\n",
              "      <td>...</td>\n",
              "      <td>...</td>\n",
              "      <td>...</td>\n",
              "      <td>...</td>\n",
              "    </tr>\n",
              "    <tr>\n",
              "      <th>17991</th>\n",
              "      <td>35.0</td>\n",
              "      <td>0.166</td>\n",
              "      <td>0.109</td>\n",
              "      <td>7.0</td>\n",
              "      <td>-17.100</td>\n",
              "      <td>0</td>\n",
              "      <td>0.0413</td>\n",
              "      <td>0.993000</td>\n",
              "      <td>0.824000</td>\n",
              "      <td>0.0984</td>\n",
              "      <td>0.1770</td>\n",
              "      <td>171.587</td>\n",
              "      <td>193450.0</td>\n",
              "      <td>3</td>\n",
              "      <td>6</td>\n",
              "    </tr>\n",
              "    <tr>\n",
              "      <th>17992</th>\n",
              "      <td>27.0</td>\n",
              "      <td>0.638</td>\n",
              "      <td>0.223</td>\n",
              "      <td>11.0</td>\n",
              "      <td>-10.174</td>\n",
              "      <td>0</td>\n",
              "      <td>0.0329</td>\n",
              "      <td>0.858000</td>\n",
              "      <td>0.000016</td>\n",
              "      <td>0.0705</td>\n",
              "      <td>0.3350</td>\n",
              "      <td>73.016</td>\n",
              "      <td>257067.0</td>\n",
              "      <td>4</td>\n",
              "      <td>2</td>\n",
              "    </tr>\n",
              "    <tr>\n",
              "      <th>17993</th>\n",
              "      <td>34.0</td>\n",
              "      <td>0.558</td>\n",
              "      <td>0.981</td>\n",
              "      <td>4.0</td>\n",
              "      <td>-4.683</td>\n",
              "      <td>0</td>\n",
              "      <td>0.0712</td>\n",
              "      <td>0.000030</td>\n",
              "      <td>0.000136</td>\n",
              "      <td>0.6660</td>\n",
              "      <td>0.2620</td>\n",
              "      <td>105.000</td>\n",
              "      <td>216222.0</td>\n",
              "      <td>4</td>\n",
              "      <td>8</td>\n",
              "    </tr>\n",
              "    <tr>\n",
              "      <th>17994</th>\n",
              "      <td>29.0</td>\n",
              "      <td>0.215</td>\n",
              "      <td>0.805</td>\n",
              "      <td>6.0</td>\n",
              "      <td>-12.757</td>\n",
              "      <td>0</td>\n",
              "      <td>0.1340</td>\n",
              "      <td>0.001290</td>\n",
              "      <td>0.916000</td>\n",
              "      <td>0.2560</td>\n",
              "      <td>0.3550</td>\n",
              "      <td>131.363</td>\n",
              "      <td>219693.0</td>\n",
              "      <td>4</td>\n",
              "      <td>8</td>\n",
              "    </tr>\n",
              "    <tr>\n",
              "      <th>17995</th>\n",
              "      <td>43.0</td>\n",
              "      <td>0.400</td>\n",
              "      <td>0.853</td>\n",
              "      <td>4.0</td>\n",
              "      <td>-5.320</td>\n",
              "      <td>0</td>\n",
              "      <td>0.0591</td>\n",
              "      <td>0.006040</td>\n",
              "      <td>0.212000</td>\n",
              "      <td>0.3340</td>\n",
              "      <td>0.3770</td>\n",
              "      <td>138.102</td>\n",
              "      <td>182227.0</td>\n",
              "      <td>4</td>\n",
              "      <td>10</td>\n",
              "    </tr>\n",
              "  </tbody>\n",
              "</table>\n",
              "<p>11813 rows × 15 columns</p>\n",
              "</div>"
            ],
            "text/plain": [
              "       Popularity  danceability  ...  time_signature  Class\n",
              "1            54.0         0.382  ...               4     10\n",
              "2            35.0         0.434  ...               4      6\n",
              "4            53.0         0.167  ...               4     10\n",
              "5            53.0         0.235  ...               4      6\n",
              "6            48.0         0.674  ...               4      2\n",
              "...           ...           ...  ...             ...    ...\n",
              "17991        35.0         0.166  ...               3      6\n",
              "17992        27.0         0.638  ...               4      2\n",
              "17993        34.0         0.558  ...               4      8\n",
              "17994        29.0         0.215  ...               4      8\n",
              "17995        43.0         0.400  ...               4     10\n",
              "\n",
              "[11813 rows x 15 columns]"
            ]
          },
          "metadata": {},
          "execution_count": 5
        }
      ]
    },
    {
      "cell_type": "code",
      "metadata": {
        "id": "ueILPvBxqU-W"
      },
      "source": [
        "#Memisahkan Feature dan Label\n",
        "#Feature\n",
        "X = music2.iloc[:,:14].values\n",
        "Y = music2.iloc[:, 14].values"
      ],
      "execution_count": 6,
      "outputs": []
    },
    {
      "cell_type": "code",
      "metadata": {
        "colab": {
          "base_uri": "https://localhost:8080/"
        },
        "id": "kv_O-pOBt4jw",
        "outputId": "8391f57d-1c27-475b-9cff-5bc69790da36"
      },
      "source": [
        "scaler = StandardScaler()\n",
        "\n",
        "# transform data\n",
        "X_scaled = scaler.fit_transform(X)\n",
        "print(X_scaled)"
      ],
      "execution_count": 7,
      "outputs": [
        {
          "output_type": "stream",
          "name": "stdout",
          "text": [
            "[[ 0.6578634  -0.86108     0.59301271 ... -0.22000411  0.33481231\n",
            "   0.22582345]\n",
            " [-0.48893955 -0.54783734 -0.2323635  ...  0.8410691  -0.89146753\n",
            "   0.22582345]\n",
            " [ 0.59750535 -2.15621793  1.25744056 ...  2.5868942   0.14687296\n",
            "   0.22582345]\n",
            " ...\n",
            " [-0.5492976   0.19912594  1.28220184 ... -0.6092036   0.02828982\n",
            "   0.22582345]\n",
            " [-0.85108785 -1.86707086  0.55587078 ...  0.28659404  0.05825067\n",
            "   0.22582345]\n",
            " [-0.00607515 -0.75264985  0.75396107 ...  0.51558089 -0.26514691\n",
            "   0.22582345]]\n"
          ]
        }
      ]
    },
    {
      "cell_type": "markdown",
      "metadata": {
        "id": "rvTSRUe-6MPv"
      },
      "source": [
        "## Feature Selection dengan uji statistik\n",
        "Disini kita akan memilih beberapa feature saja yang dianggap penting untuk nantinya digunakan untuk membuat model. Berbeda dengan PCA dan LDA, kita tidak mentransformasi data, hanya menggunakan sebagiannya saja. \n",
        "\n",
        "Karena labelnya kategorik, maka kita bisa menggunakan uji beda. Karena datanya banyak dan jumlah grupnya lebih dari 2, maka disini kita menggunakan ANOVA. Berikut contoh kodingan untuk feature selection dengan uji statistik yang tersedia di library 'sklearn.feature_selection'"
      ]
    },
    {
      "cell_type": "code",
      "metadata": {
        "id": "mgYVtujdlX57",
        "colab": {
          "base_uri": "https://localhost:8080/"
        },
        "outputId": "4f87d929-5d47-42d9-cfaf-40ef44d1a72e"
      },
      "source": [
        "# Memilih berapa k feature yang mau digunakan\n",
        "selector = SelectKBest(f_classif, k=7)  #pilih k feature terbaik berdasarkan nilai statistik uji ANOVA tertinggi\n",
        "selector.fit(X_scaled, Y)\n",
        "X_new_a= selector.fit_transform(X_scaled, Y)  # k feature terbaik sudah terpilih\n",
        "print(\"nilai statistik hitung tiap feature : \", selector.scores_)\n",
        "print('\\n', \"nilai pvalue : \", selector.pvalues_)"
      ],
      "execution_count": 8,
      "outputs": [
        {
          "output_type": "stream",
          "name": "stdout",
          "text": [
            "nilai statistik hitung tiap feature :  [139.88066056 327.57607032 607.05627169   3.44940318 533.23015937\n",
            "  17.36126483 240.43782283 702.69800751 307.34168538  25.06319532\n",
            " 208.2249501   28.89657946 931.21961423  25.14183356]\n",
            "\n",
            " nilai pvalue :  [5.67588919e-278 0.00000000e+000 0.00000000e+000 1.54594261e-004\n",
            " 0.00000000e+000 8.80419429e-032 0.00000000e+000 0.00000000e+000\n",
            " 0.00000000e+000 1.36713016e-047 0.00000000e+000 1.72827268e-055\n",
            " 0.00000000e+000 9.41651367e-048]\n"
          ]
        }
      ]
    },
    {
      "cell_type": "markdown",
      "metadata": {
        "id": "L31rgArQtizI"
      },
      "source": [
        "## PCA\n",
        "Sebelum menentukan ingin mereduksi menjadi berapa komponen, kita bikin dulu visualisasi cumulative explained ratio sebagai gambaran berapa persen varians data asli yang tetap bisa dijelaskan meski sudah direduksi"
      ]
    },
    {
      "cell_type": "code",
      "metadata": {
        "id": "tET0fiIZ0bAz",
        "colab": {
          "base_uri": "https://localhost:8080/",
          "height": 297
        },
        "outputId": "db4fd853-45cd-4720-97f9-545e0726680e"
      },
      "source": [
        "# Membuat Visualisasi Cumulative Explained Ratio\n",
        "pca = PCA()\n",
        "pca_data = pca.fit_transform(X_scaled)\n",
        "\n",
        "plt.plot(np.cumsum(pca.explained_variance_ratio_))\n",
        "plt.xlabel(\"number pf components\")\n",
        "plt.ylabel(\"cumulative explained variance\")"
      ],
      "execution_count": 9,
      "outputs": [
        {
          "output_type": "execute_result",
          "data": {
            "text/plain": [
              "Text(0, 0.5, 'cumulative explained variance')"
            ]
          },
          "metadata": {},
          "execution_count": 9
        },
        {
          "output_type": "display_data",
          "data": {
            "image/png": "[encoded data removed]",
            "text/plain": [
              "<Figure size 432x288 with 1 Axes>"
            ]
          },
          "metadata": {
            "needs_background": "light"
          }
        }
      ]
    },
    {
      "cell_type": "markdown",
      "metadata": {
        "id": "BGEbV555Xmg1"
      },
      "source": [
        "Berapa nilai n_components agar cumulative explained variance minimal 75%? Sekarang tentukan berapa n_components yang menurutmu cukup bagus lalu transform datamu."
      ]
    },
    {
      "cell_type": "code",
      "metadata": {
        "id": "MEDRgbMk3vSh",
        "colab": {
          "base_uri": "https://localhost:8080/"
        },
        "outputId": "ddc6625f-f8cd-46ae-a91f-1f6c44c110d7"
      },
      "source": [
        "# Implementasi pca sesuai grafik\n",
        "# n = 0 - 14\n",
        "n = 8 #minimal\n",
        "pca = PCA(n_components=n)\n",
        "X_new_pca = pca.fit_transform(X_scaled)\n",
        "total_var = pca.explained_variance_ratio_.sum() * 100\n",
        "print(total_var, '% of total variance is explained by',n, 'principal components')"
      ],
      "execution_count": 10,
      "outputs": [
        {
          "output_type": "stream",
          "name": "stdout",
          "text": [
            "76.68715479081388 % of total variance is explained by 8 principal components\n"
          ]
        }
      ]
    },
    {
      "cell_type": "markdown",
      "metadata": {
        "id": "4M81WW1DZHBI"
      },
      "source": [
        "## LDA"
      ]
    },
    {
      "cell_type": "code",
      "metadata": {
        "id": "wYmwIkkktld8",
        "colab": {
          "base_uri": "https://localhost:8080/",
          "height": 297
        },
        "outputId": "f2fbffd2-3bab-4359-f970-8a8e05e6571e"
      },
      "source": [
        "# Membuat Visualisasi Cumulative Explained Ratio\n",
        "lda = LinearDiscriminantAnalysis()\n",
        "lda_data = lda.fit_transform(X_scaled, Y)\n",
        "\n",
        "plt.plot(np.cumsum(lda.explained_variance_ratio_))\n",
        "plt.xlabel(\"number of components\")\n",
        "plt.ylabel(\"cumulative explained variance\")"
      ],
      "execution_count": 11,
      "outputs": [
        {
          "output_type": "execute_result",
          "data": {
            "text/plain": [
              "Text(0, 0.5, 'cumulative explained variance')"
            ]
          },
          "metadata": {},
          "execution_count": 11
        },
        {
          "output_type": "display_data",
          "data": {
            "image/png": "[encoded data removed]",
            "text/plain": [
              "<Figure size 432x288 with 1 Axes>"
            ]
          },
          "metadata": {
            "needs_background": "light"
          }
        }
      ]
    },
    {
      "cell_type": "markdown",
      "metadata": {
        "id": "Ru21yoFJdi9V"
      },
      "source": [
        "Berapa nilai n_components agar cumulative explained variance minimal 75%? Sekarang tentukan berapa n_components yang menurutmu cukup bagus lalu transform datamu."
      ]
    },
    {
      "cell_type": "code",
      "metadata": {
        "id": "8LpOebrruC77",
        "colab": {
          "base_uri": "https://localhost:8080/"
        },
        "outputId": "ba334aac-a3df-4f1c-eaef-e5d738c54375"
      },
      "source": [
        "# Implementasi Ida sesuai grafik\n",
        "# >= 10 (100%)\n",
        "# l = 2 #minimal\n",
        "l = 3\n",
        "lda = LinearDiscriminantAnalysis(n_components=l)\n",
        "X_new_lda = lda.fit_transform(X_scaled, Y)\n",
        "total_var = lda.explained_variance_ratio_.sum() * 100\n",
        "print(total_var, '% of total variance is explained by',l, 'features')"
      ],
      "execution_count": 12,
      "outputs": [
        {
          "output_type": "stream",
          "name": "stdout",
          "text": [
            "84.99124363053907 % of total variance is explained by 3 features\n"
          ]
        }
      ]
    },
    {
      "cell_type": "markdown",
      "metadata": {
        "id": "tXMmGOvA0Y0e"
      },
      "source": [
        "#Model KNN\n",
        "Buat model knn dari data asli dan data yang sudah dilakukan dimensional reduction\n",
        "\n",
        "Evaluasi berdasarkan akurasi dan juga lama training hingga membuat prediksi. Berikut ada contoh menghitung waktu dengan library 'time'\n",
        "\n",
        "![knn breast.png](data:image/png;base64,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)"
      ]
    },
    {
      "cell_type": "markdown",
      "metadata": {
        "id": "6nH2J6B12T_4"
      },
      "source": [
        "Kodingan diatas hanya contoh, tidak untuk diketik ulang. Nah silahkan memulai proses training data dengan knn"
      ]
    },
    {
      "cell_type": "markdown",
      "metadata": {
        "id": "sdNLvggsJtru"
      },
      "source": [
        "### MODEL KNN (BENTUK 1)"
      ]
    },
    {
      "cell_type": "code",
      "metadata": {
        "id": "HxSGoayLkiL9"
      },
      "source": [
        "#Training dan Testing data asli dan data dengan feature selection\n",
        "X_train,X_test,Y_train,Y_test = train_test_split(X_scaled, Y, test_size = 0.2, random_state = 22, stratify=Y)\n",
        "X_train_a,X_test_a,Y_train_a,Y_test_a = train_test_split(X_new_a, Y, test_size = 0.2, random_state = 22, stratify=Y)\n",
        "X_train_pca,X_test_pca,Y_train_pca,Y_test_pca = train_test_split(X_new_pca, Y, test_size = 0.2, random_state = 22, stratify=Y)\n",
        "X_train_lda,X_test_lda,Y_train_lda,Y_test_lda = train_test_split(X_new_lda, Y, test_size = 0.2, random_state = 22, stratify=Y)"
      ],
      "execution_count": 13,
      "outputs": []
    },
    {
      "cell_type": "code",
      "metadata": {
        "id": "WHw5eYajkqed",
        "colab": {
          "base_uri": "https://localhost:8080/"
        },
        "outputId": "3fc2e023-5242-4476-f32f-acdfed087625"
      },
      "source": [
        "#Train Model and Predict menggunakan data asli\n",
        "start = time.time() \n",
        "k = 10\n",
        "knn = KNeighborsClassifier(n_neighbors = k, metric='euclidean').fit(X_train,Y_train)\n",
        "y_predict = knn.predict(X_test)\n",
        "end = time.time()\n",
        "print(\"Akurasi model dengan data asli: \", metrics.accuracy_score(Y_test, y_predict))\n",
        "print('waktu training hingga prediksi = ', end - start)"
      ],
      "execution_count": 14,
      "outputs": [
        {
          "output_type": "stream",
          "name": "stdout",
          "text": [
            "Akurasi model dengan data asli:  0.42615319509098604\n",
            "waktu training hingga prediksi =  0.6430542469024658\n"
          ]
        }
      ]
    },
    {
      "cell_type": "code",
      "metadata": {
        "id": "etOLavSGkzaG",
        "colab": {
          "base_uri": "https://localhost:8080/"
        },
        "outputId": "2c6e88f3-6c7b-44e2-d56c-38e74d05c219"
      },
      "source": [
        "#Train Model and Predict menggunakan data dengan feature selection\n",
        "start = time.time() \n",
        "k = 10\n",
        "knn_a = KNeighborsClassifier(n_neighbors = k, metric='euclidean').fit(X_train_a,Y_train_a)\n",
        "y_predict_a = knn_a.predict(X_test_a)\n",
        "end = time.time()\n",
        "print(\"Akurasi model dengan data feature selection: \", metrics.accuracy_score(Y_test_a, y_predict_a))\n",
        "print('waktu training hingga prediksi = ', end - start)"
      ],
      "execution_count": 15,
      "outputs": [
        {
          "output_type": "stream",
          "name": "stdout",
          "text": [
            "Akurasi model dengan data feature selection:  0.4244604316546763\n",
            "waktu training hingga prediksi =  0.18156671524047852\n"
          ]
        }
      ]
    },
    {
      "cell_type": "code",
      "metadata": {
        "id": "1RmJKi_O3M1J",
        "colab": {
          "base_uri": "https://localhost:8080/"
        },
        "outputId": "7865c655-6231-4956-a302-2441d61649f0"
      },
      "source": [
        "#Train Model and Predict menggunakan data dengan PCA\n",
        "start = time.time() \n",
        "k = 25\n",
        "knn_pca = KNeighborsClassifier(n_neighbors = k, metric='euclidean').fit(X_train_pca,Y_train_pca)\n",
        "y_predict_pca = knn_pca.predict(X_test_pca)\n",
        "end = time.time()\n",
        "print(\"Akurasi model dengan data PCA \", metrics.accuracy_score(Y_test_pca, y_predict_pca))\n",
        "print('waktu training hingga prediksi = ', end - start)"
      ],
      "execution_count": 16,
      "outputs": [
        {
          "output_type": "stream",
          "name": "stdout",
          "text": [
            "Akurasi model dengan data PCA  0.40964875158696573\n",
            "waktu training hingga prediksi =  0.25217151641845703\n"
          ]
        }
      ]
    },
    {
      "cell_type": "code",
      "metadata": {
        "id": "-NSqi4Bp3Zrs",
        "colab": {
          "base_uri": "https://localhost:8080/"
        },
        "outputId": "334b3f06-2230-4d1b-b8ce-e550a9d93564"
      },
      "source": [
        "#Train Model and Predict menggunakan data dengan LDA\n",
        "start = time.time() \n",
        "k = 17\n",
        "knn_lda = KNeighborsClassifier(n_neighbors = k, metric='euclidean').fit(X_train_lda,Y_train_lda)\n",
        "y_predict_lda = knn_lda.predict(X_test_lda)\n",
        "end = time.time()\n",
        "print(\"Akurasi model dengan data LDA: \", metrics.accuracy_score(Y_test_lda, y_predict_lda))\n",
        "print('waktu training hingga prediksi = ', end - start)"
      ],
      "execution_count": 17,
      "outputs": [
        {
          "output_type": "stream",
          "name": "stdout",
          "text": [
            "Akurasi model dengan data LDA:  0.38975878121032587\n",
            "waktu training hingga prediksi =  0.13278937339782715\n"
          ]
        }
      ]
    },
    {
      "cell_type": "markdown",
      "metadata": {
        "id": "sK7u1bocmQas"
      },
      "source": [
        "Apa yang dapat kamu simpulkan dari akurasi dan lama waktu training dari data sebelum dan sesudah dimensionality reduction?"
      ]
    },
    {
      "cell_type": "markdown",
      "metadata": {
        "id": "Rb9XTV9DlCvF"
      },
      "source": [
        "Terlihat bahwa dengan jumlah feature yang lebih sedikit, tetap menghasilkan akurasi yang tidak jauh berbeda dan dengan waktu training hingga prediksi yang lebih singkat. Itulah salah 1 keuntungan menggunakan dimensional reduction, ini diperlukan saat menghadapi kasus data berdimensi tinggi (high dimensional data), seperti data genomics, gambar, dll"
      ]
    },
    {
      "cell_type": "markdown",
      "metadata": {
        "id": "DjALyktwKDLS"
      },
      "source": [
        "### MODEL KNN (BENTUK 2)"
      ]
    },
    {
      "cell_type": "code",
      "metadata": {
        "id": "bF4qKozIMo1o"
      },
      "source": [
        "#Memisahkan Feature dan Label\n",
        "#Feature (mengulang Kode diatas)\n",
        "X = music2.iloc[:,:14].values\n",
        "Y = music2.iloc[:, 14].values"
      ],
      "execution_count": 18,
      "outputs": []
    },
    {
      "cell_type": "code",
      "metadata": {
        "id": "v8zqvCV1MtM-",
        "colab": {
          "base_uri": "https://localhost:8080/"
        },
        "outputId": "3e3eecf1-4f71-4f08-e348-f81345be2288"
      },
      "source": [
        "scaler = StandardScaler()\n",
        "\n",
        "# transform data\n",
        "X_scaled = scaler.fit_transform(X)\n",
        "print(X_scaled)"
      ],
      "execution_count": 19,
      "outputs": [
        {
          "output_type": "stream",
          "name": "stdout",
          "text": [
            "[[ 0.6578634  -0.86108     0.59301271 ... -0.22000411  0.33481231\n",
            "   0.22582345]\n",
            " [-0.48893955 -0.54783734 -0.2323635  ...  0.8410691  -0.89146753\n",
            "   0.22582345]\n",
            " [ 0.59750535 -2.15621793  1.25744056 ...  2.5868942   0.14687296\n",
            "   0.22582345]\n",
            " ...\n",
            " [-0.5492976   0.19912594  1.28220184 ... -0.6092036   0.02828982\n",
            "   0.22582345]\n",
            " [-0.85108785 -1.86707086  0.55587078 ...  0.28659404  0.05825067\n",
            "   0.22582345]\n",
            " [-0.00607515 -0.75264985  0.75396107 ...  0.51558089 -0.26514691\n",
            "   0.22582345]]\n"
          ]
        }
      ]
    },
    {
      "cell_type": "code",
      "metadata": {
        "colab": {
          "base_uri": "https://localhost:8080/"
        },
        "id": "qUfcShw6JCps",
        "outputId": "6d3ba6a4-afe7-4335-ed48-9242c570157a"
      },
      "source": [
        "# Train Model and Predict menggunakan data asli\n",
        "from sklearn.model_selection import train_test_split\n",
        "X_scaled_train, X_scaled_test, Y_train, Y_test = train_test_split( X_scaled, Y, test_size=0.2, random_state=22, stratify=Y)\n",
        "\n",
        "start = time.time()\n",
        "knn = KNeighborsClassifier(n_neighbors = 10, metric='euclidean').fit(X_scaled_train, Y_train)\n",
        "Y_pred = knn.predict(X_scaled_test)\n",
        "end = time.time()\n",
        "print(\"Akurasi model : \", metrics.accuracy_score(Y_test, Y_pred) * 100, '%')\n",
        "print(\"lama waktu training hingga prediksi = \", end - start)"
      ],
      "execution_count": 20,
      "outputs": [
        {
          "output_type": "stream",
          "name": "stdout",
          "text": [
            "Akurasi model :  42.615319509098605 %\n",
            "lama waktu training hingga prediksi =  0.6269056797027588\n"
          ]
        }
      ]
    },
    {
      "cell_type": "code",
      "metadata": {
        "colab": {
          "base_uri": "https://localhost:8080/"
        },
        "id": "5VSCP6aTKNub",
        "outputId": "a8dddb57-ffc0-4638-8438-ba1e9f8c5acd"
      },
      "source": [
        "# Train Model and Predict menggunakan data dengan feature selection\n",
        "from sklearn.model_selection import train_test_split\n",
        "X_new_a_train, X_new_a_test, Y_train, Y_test = train_test_split( X_new_a, Y, test_size=0.2, random_state=22, stratify=Y)\n",
        "\n",
        "start = time.time()\n",
        "knn = KNeighborsClassifier(n_neighbors = 10, metric='euclidean').fit(X_new_a_train, Y_train)\n",
        "Y_pred = knn.predict(X_new_a_test)\n",
        "end = time.time()\n",
        "print(\"Akurasi model : \", metrics.accuracy_score(Y_test, Y_pred) * 100, '%')\n",
        "print(\"lama waktu training hingga prediksi = \", end - start)"
      ],
      "execution_count": 21,
      "outputs": [
        {
          "output_type": "stream",
          "name": "stdout",
          "text": [
            "Akurasi model :  42.44604316546763 %\n",
            "lama waktu training hingga prediksi =  0.16237497329711914\n"
          ]
        }
      ]
    },
    {
      "cell_type": "code",
      "metadata": {
        "colab": {
          "base_uri": "https://localhost:8080/"
        },
        "id": "kG_SHws9Kyq0",
        "outputId": "429b59c7-5200-4e0c-83ed-481f3997b0ad"
      },
      "source": [
        "# Train Model and Predict menggunakan data dengan PCA\n",
        "from sklearn.model_selection import train_test_split\n",
        "X_new_pca_train, X_new_pca_test, Y_train, Y_test = train_test_split( X_new_pca, Y, test_size=0.2, random_state=22, stratify=Y)\n",
        "\n",
        "start = time.time()\n",
        "knn = KNeighborsClassifier(n_neighbors = 25, metric='euclidean').fit(X_new_pca_train, Y_train)\n",
        "Y_pred = knn.predict(X_new_pca_test)\n",
        "end = time.time()\n",
        "print(\"Akurasi model : \", metrics.accuracy_score(Y_test, Y_pred) * 100, '%')\n",
        "print(\"lama waktu training hingga prediksi = \", end - start)"
      ],
      "execution_count": 22,
      "outputs": [
        {
          "output_type": "stream",
          "name": "stdout",
          "text": [
            "Akurasi model :  40.96487515869657 %\n",
            "lama waktu training hingga prediksi =  0.25853586196899414\n"
          ]
        }
      ]
    },
    {
      "cell_type": "code",
      "metadata": {
        "colab": {
          "base_uri": "https://localhost:8080/"
        },
        "id": "da24nsT8LCU0",
        "outputId": "91ad0444-3d51-40a2-ae09-b03fdddc4c53"
      },
      "source": [
        "# Train Model and Predict menggunakan data dengan LDA\n",
        "from sklearn.model_selection import train_test_split\n",
        "X_new_lda_train, X_new_lda_test, Y_train, Y_test = train_test_split( X_new_lda, Y, test_size=0.2, random_state=22, stratify=Y)\n",
        "\n",
        "start = time.time()\n",
        "knn = KNeighborsClassifier(n_neighbors = 17, metric='euclidean').fit(X_new_lda_train, Y_train)\n",
        "Y_pred = knn.predict(X_new_lda_test)\n",
        "end = time.time()\n",
        "print(\"Akurasi model : \", metrics.accuracy_score(Y_test, Y_pred) * 100, '%')\n",
        "print(\"lama waktu training hingga prediksi = \", end - start)"
      ],
      "execution_count": 23,
      "outputs": [
        {
          "output_type": "stream",
          "name": "stdout",
          "text": [
            "Akurasi model :  38.975878121032586 %\n",
            "lama waktu training hingga prediksi =  0.09444713592529297\n"
          ]
        }
      ]
    },
    {
      "cell_type": "markdown",
      "metadata": {
        "id": "ohjbAJIULGjI"
      },
      "source": [
        "### MODEL KNN (BENTUK 3)"
      ]
    },
    {
      "cell_type": "code",
      "metadata": {
        "id": "BH1pFQRouqxC"
      },
      "source": [
        "#Training dan Testing data asli dan data dengan feature selection\n",
        "\n",
        "# Raw\n",
        "x_train_raw, x_test_raw, y_train_raw, y_test_raw = train_test_split(X, Y, test_size=0.3, random_state=42)\n",
        "\n",
        "# Feature Selection\n",
        "x_train_fs, x_test_fs, y_train_fs, y_test_fs = train_test_split(X_new_a, Y, test_size=0.3, random_state=42)\n",
        "\n",
        "# PCA\n",
        "x_train_pca, x_test_pca, y_train_pca, y_test_pca = train_test_split(X_new_pca, Y, test_size=0.3, random_state=42)\n",
        "\n",
        "# LCA\n",
        "x_train_lda, x_test_lda, y_train_lda, y_test_lda = train_test_split(X_new_lda, Y, test_size=0.3, random_state=42)"
      ],
      "execution_count": 24,
      "outputs": []
    },
    {
      "cell_type": "markdown",
      "metadata": {
        "id": "PH3S1iv8v9VP"
      },
      "source": [
        "Diagram Akurasi nilai K pada Data Asli"
      ]
    },
    {
      "cell_type": "code",
      "metadata": {
        "colab": {
          "base_uri": "https://localhost:8080/",
          "height": 422
        },
        "id": "CLQErQVmYPOb",
        "outputId": "e74004c3-f1f6-4e63-a040-a1efeb16913e"
      },
      "source": [
        "acc = []\n",
        "# Will take some time\n",
        "from sklearn import metrics\n",
        "for i in range(1,100):\n",
        "    neigh = KNeighborsClassifier(n_neighbors = i).fit(x_train_raw,y_train_raw)\n",
        "    yhat = neigh.predict(x_test_raw)\n",
        "    acc.append(metrics.accuracy_score(y_test_raw, yhat))\n",
        "    \n",
        "plt.figure(figsize=(10,6))\n",
        "plt.plot(range(1,100),acc,color = 'black',linestyle='dashed', \n",
        "         marker='o',markerfacecolor='yellow', markersize=10)\n",
        "plt.title('Accuracy vs. K Value for Raw')\n",
        "plt.grid(True)\n",
        "plt.xlabel('K')\n",
        "plt.ylabel('Accuracy')\n",
        "print(\"Maximum accuracy:-\",max(acc),\"at K =\",acc.index(max(acc)))"
      ],
      "execution_count": 25,
      "outputs": [
        {
          "output_type": "stream",
          "name": "stdout",
          "text": [
            "Maximum accuracy:- 0.32900677200902934 at K = 92\n"
          ]
        },
        {
          "output_type": "display_data",
          "data": {
            "image/png": "[encoded data removed]",
            "text/plain": [
              "<Figure size 720x432 with 1 Axes>"
            ]
          },
          "metadata": {
            "needs_background": "light"
          }
        }
      ]
    },
    {
      "cell_type": "markdown",
      "metadata": {
        "id": "ijWP-4Evxavx"
      },
      "source": [
        "Diagram Akurasi nilai K pada Data Feature Selection"
      ]
    },
    {
      "cell_type": "code",
      "metadata": {
        "colab": {
          "base_uri": "https://localhost:8080/",
          "height": 422
        },
        "id": "A6HXKNU7hUjE",
        "outputId": "bb1b6e8f-cbae-4886-8283-b226388f5616"
      },
      "source": [
        "acc = []\n",
        "# Will take some time\n",
        "from sklearn import metrics\n",
        "for i in range(1,50):\n",
        "    neigh = KNeighborsClassifier(n_neighbors = i).fit(x_train_fs,y_train_fs)\n",
        "    yhat = neigh.predict(x_test_fs)\n",
        "    acc.append(metrics.accuracy_score(y_test_fs, yhat))\n",
        "    \n",
        "plt.figure(figsize=(10,6))\n",
        "plt.plot(range(1,50),acc,color = 'black',linestyle='dashed', \n",
        "         marker='o',markerfacecolor='yellow', markersize=10)\n",
        "plt.title('Accuracy vs. K Value for Feature Selection')\n",
        "plt.grid(True)\n",
        "plt.xlabel('K')\n",
        "plt.ylabel('Accuracy')\n",
        "print(\"Maximum accuracy:-\",max(acc),\"at K =\",acc.index(max(acc)))"
      ],
      "execution_count": 26,
      "outputs": [
        {
          "output_type": "stream",
          "name": "stdout",
          "text": [
            "Maximum accuracy:- 0.4463882618510158 at K = 40\n"
          ]
        },
        {
          "output_type": "display_data",
          "data": {
            "image/png": "[encoded data removed]",
            "text/plain": [
              "<Figure size 720x432 with 1 Axes>"
            ]
          },
          "metadata": {
            "needs_background": "light"
          }
        }
      ]
    },
    {
      "cell_type": "markdown",
      "metadata": {
        "id": "R2J9OJSbyFbD"
      },
      "source": [
        "Diagram Akurasi nilai K pada Data PCA"
      ]
    },
    {
      "cell_type": "code",
      "metadata": {
        "colab": {
          "base_uri": "https://localhost:8080/",
          "height": 422
        },
        "id": "JqKyiOuOhUoR",
        "outputId": "9fae5e9c-4d1c-4c4c-86d7-aea96b557035"
      },
      "source": [
        "acc = []\n",
        "# Will take some time\n",
        "from sklearn import metrics\n",
        "for i in range(1,50):\n",
        "    neigh = KNeighborsClassifier(n_neighbors = i).fit(x_train_pca,y_train_pca)\n",
        "    yhat = neigh.predict(x_test_pca)\n",
        "    acc.append(metrics.accuracy_score(y_test_pca, yhat))\n",
        "    \n",
        "plt.figure(figsize=(10,6))\n",
        "plt.plot(range(1,50),acc,color = 'black',linestyle='dashed', \n",
        "         marker='o',markerfacecolor='yellow', markersize=10)\n",
        "plt.title('Accuracy vs. K Value for PCA')\n",
        "plt.grid(True)\n",
        "plt.xlabel('K')\n",
        "plt.ylabel('Accuracy')\n",
        "print(\"Maximum accuracy:-\",max(acc),\"at K =\",acc.index(max(acc)))"
      ],
      "execution_count": 27,
      "outputs": [
        {
          "output_type": "stream",
          "name": "stdout",
          "text": [
            "Maximum accuracy:- 0.41788939051918733 at K = 40\n"
          ]
        },
        {
          "output_type": "display_data",
          "data": {
            "image/png": "[encoded data removed]",
            "text/plain": [
              "<Figure size 720x432 with 1 Axes>"
            ]
          },
          "metadata": {
            "needs_background": "light"
          }
        }
      ]
    },
    {
      "cell_type": "markdown",
      "metadata": {
        "id": "jZU_6NGryujl"
      },
      "source": [
        "Diagram Akurasi nilai K pada Data LDA"
      ]
    },
    {
      "cell_type": "code",
      "metadata": {
        "colab": {
          "base_uri": "https://localhost:8080/",
          "height": 422
        },
        "id": "X4R5N_IUhUsq",
        "outputId": "324e5bfb-5aed-4111-82d2-8aab2ed3d09d"
      },
      "source": [
        "acc = []\n",
        "# Will take some time\n",
        "from sklearn import metrics\n",
        "for i in range(1,50):\n",
        "    neigh = KNeighborsClassifier(n_neighbors = i).fit(x_train_lda,y_train_lda)\n",
        "    yhat = neigh.predict(x_test_lda)\n",
        "    acc.append(metrics.accuracy_score(y_test_lda, yhat))\n",
        "    \n",
        "plt.figure(figsize=(10,6))\n",
        "plt.plot(range(1,50),acc,color = 'black',linestyle='dashed', \n",
        "         marker='o',markerfacecolor='yellow', markersize=10)\n",
        "plt.title('Accuracy vs. K Value for LDA')\n",
        "plt.grid(True)\n",
        "plt.xlabel('K')\n",
        "plt.ylabel('Accuracy')\n",
        "print(\"Maximum accuracy:-\",max(acc),\"at K =\",acc.index(max(acc)))"
      ],
      "execution_count": 28,
      "outputs": [
        {
          "output_type": "stream",
          "name": "stdout",
          "text": [
            "Maximum accuracy:- 0.4136568848758465 at K = 47\n"
          ]
        },
        {
          "output_type": "display_data",
          "data": {
            "image/png": "[encoded data removed]",
            "text/plain": [
              "<Figure size 720x432 with 1 Axes>"
            ]
          },
          "metadata": {
            "needs_background": "light"
          }
        }
      ]
    },
    {
      "cell_type": "code",
      "metadata": {
        "colab": {
          "base_uri": "https://localhost:8080/"
        },
        "id": "cJNK8JYyzOkP",
        "outputId": "26ad694d-9d2c-4506-dc54-67c6a634ee33"
      },
      "source": [
        "n=95\n",
        "knn = KNeighborsClassifier(n_neighbors=n)\n",
        "\n",
        "# Train Model and Predict menggunakan data asli\n",
        "model_raw = knn.fit(x_train_raw, y_train_raw)\n",
        "pred_raw = model_raw.predict(x_test_raw)\n",
        "print(\"Akurasi model data Asli : \", metrics.accuracy_score(y_test_raw, pred_raw))"
      ],
      "execution_count": 29,
      "outputs": [
        {
          "output_type": "stream",
          "name": "stdout",
          "text": [
            "Akurasi model data Asli :  0.3270316027088036\n"
          ]
        }
      ]
    },
    {
      "cell_type": "code",
      "metadata": {
        "colab": {
          "base_uri": "https://localhost:8080/"
        },
        "id": "skBiHW-szmRC",
        "outputId": "9c98c02b-5a62-454d-8774-1046f163b777"
      },
      "source": [
        "# Train Model and Predict menggunakan data dengan feature selection\n",
        "model_fs = knn.fit(x_train_fs, y_train_fs)\n",
        "pred_fs = model_fs.predict(x_test_fs)\n",
        "print(\"Akurasi model data Feature Selectiion : \", metrics.accuracy_score(y_test_fs, pred_fs))"
      ],
      "execution_count": 30,
      "outputs": [
        {
          "output_type": "stream",
          "name": "stdout",
          "text": [
            "Akurasi model data Feature Selectiion :  0.43876975169300225\n"
          ]
        }
      ]
    },
    {
      "cell_type": "code",
      "metadata": {
        "colab": {
          "base_uri": "https://localhost:8080/"
        },
        "id": "lmh-9afgzuRk",
        "outputId": "22446fdc-8abd-48dd-a69b-4980bb90322e"
      },
      "source": [
        "# Train Model and Predict menggunakan data dengan PCA\n",
        "model_pca = knn.fit(x_train_pca, y_train_pca)\n",
        "pred_pca = model_pca.predict(x_test_pca)\n",
        "print(\"Akurasi model data PCA : \", metrics.accuracy_score(y_test_pca, pred_pca))"
      ],
      "execution_count": 31,
      "outputs": [
        {
          "output_type": "stream",
          "name": "stdout",
          "text": [
            "Akurasi model data PCA :  0.4153498871331828\n"
          ]
        }
      ]
    },
    {
      "cell_type": "code",
      "metadata": {
        "colab": {
          "base_uri": "https://localhost:8080/"
        },
        "id": "RGECOajR0CBS",
        "outputId": "04e056d4-c1dd-48fd-8cd6-0eb202c8133d"
      },
      "source": [
        "# Train Model and Predict menggunakan data dengan LDA\n",
        "model_lda = knn.fit(x_train_lda, y_train_lda)\n",
        "pred_lda = model_lda.predict(x_test_lda)\n",
        "print(\"Akurasi model data LDA : \", metrics.accuracy_score(y_test_lda, pred_lda))"
      ],
      "execution_count": 32,
      "outputs": [
        {
          "output_type": "stream",
          "name": "stdout",
          "text": [
            "Akurasi model data LDA :  0.41732505643340856\n"
          ]
        }
      ]
    },
    {
      "cell_type": "markdown",
      "metadata": {
        "id": "00epHnId03XY"
      },
      "source": [
        "# Tambahan"
      ]
    },
    {
      "cell_type": "markdown",
      "metadata": {
        "id": "CXRDa_UyjfX4"
      },
      "source": [
        "Pembagian Training dan Testing Data Asli & Data dengan Feature Selection"
      ]
    },
    {
      "cell_type": "code",
      "metadata": {
        "colab": {
          "base_uri": "https://localhost:8080/"
        },
        "id": "tgkP8GxKqbMS",
        "outputId": "54cd9d8c-fe3b-40bf-ec7d-eefb110a06dc"
      },
      "source": [
        "from sklearn.model_selection import train_test_split\n",
        "\n",
        "X_scaled_train, X_scaled_test, Y_train, Y_test = train_test_split( X_scaled, Y, test_size=0.2, random_state=22, stratify=Y)\n",
        "print ('Train set data asli:', X_scaled_train.shape,  Y_train.shape)\n",
        "print ('Test set data asli :', X_scaled_test.shape,  Y_test.shape)\n",
        "\n",
        "X_new_a_train, X_new_a_test, Y_train, Y_test = train_test_split( X_new_a, Y, test_size=0.2, random_state=22, stratify=Y)\n",
        "print ('Train set data dengan feature selection :', X_new_a_train.shape,  Y_train.shape)\n",
        "print ('Test set data dengan feature selection :', X_new_a_test.shape,  Y_test.shape)"
      ],
      "execution_count": 33,
      "outputs": [
        {
          "output_type": "stream",
          "name": "stdout",
          "text": [
            "Train set data asli: (9450, 14) (9450,)\n",
            "Test set data asli : (2363, 14) (2363,)\n",
            "Train set data dengan feature selection : (9450, 7) (9450,)\n",
            "Test set data dengan feature selection : (2363, 7) (2363,)\n"
          ]
        }
      ]
    },
    {
      "cell_type": "markdown",
      "metadata": {
        "id": "MZszI11bqx9o"
      },
      "source": [
        "Pembentukan Model dan Akurasi Data Training & Testing yang sudah di Normalisasi dari Data Asli"
      ]
    },
    {
      "cell_type": "code",
      "metadata": {
        "colab": {
          "base_uri": "https://localhost:8080/"
        },
        "id": "_E-oy4ndqo2t",
        "outputId": "5068058c-3ddd-4a4e-f0c2-19f07d2ff1c1"
      },
      "source": [
        "scaler = StandardScaler()\n",
        "\n",
        "# transform data\n",
        "X_train_scaled = scaler.fit_transform(X_scaled_train)\n",
        "X_test_scaled = scaler.fit_transform(X_scaled_test)\n",
        "\n",
        "# knn after normalization\n",
        "from sklearn.neighbors import KNeighborsClassifier\n",
        "knn = KNeighborsClassifier(n_neighbors = 10).fit(X_train_scaled,Y_train)\n",
        "Y_pred = knn.predict(X_test_scaled)\n",
        "\n",
        "# Accuracy\n",
        "from sklearn import metrics\n",
        "print(\"Train set Accuracy: \", metrics.accuracy_score(Y_train, knn.predict(X_train_scaled)))\n",
        "print(\"Test set Accuracy: \", metrics.accuracy_score(Y_test, Y_pred))"
      ],
      "execution_count": 34,
      "outputs": [
        {
          "output_type": "stream",
          "name": "stdout",
          "text": [
            "Train set Accuracy:  0.54994708994709\n",
            "Test set Accuracy:  0.4282691493863732\n"
          ]
        }
      ]
    },
    {
      "cell_type": "markdown",
      "metadata": {
        "id": "WdrdjnqQrdtH"
      },
      "source": [
        "Pembentukan Model Training dan Akurasi dari Data Asli"
      ]
    },
    {
      "cell_type": "code",
      "metadata": {
        "colab": {
          "base_uri": "https://localhost:8080/"
        },
        "id": "ZzQCFB3GrJ2u",
        "outputId": "26252f66-31ae-4929-a52c-746c422d3c39"
      },
      "source": [
        "#Train Model and Predict menggunakan data asli\n",
        "from sklearn.neighbors import KNeighborsClassifier\n",
        "knn = KNeighborsClassifier(n_neighbors = 10).fit(X_scaled_train,Y_train)\n",
        "Y_pred = knn.predict(X_scaled_test)\n",
        "\n",
        "# Accuracy\n",
        "from sklearn import metrics\n",
        "print(\"Train set Accuracy: \", metrics.accuracy_score(Y_train, knn.predict(X_scaled_train)))\n",
        "print(\"Test set Accuracy: \", metrics.accuracy_score(Y_test, Y_pred))"
      ],
      "execution_count": 35,
      "outputs": [
        {
          "output_type": "stream",
          "name": "stdout",
          "text": [
            "Train set Accuracy:  0.5488888888888889\n",
            "Test set Accuracy:  0.42615319509098604\n"
          ]
        }
      ]
    },
    {
      "cell_type": "markdown",
      "metadata": {
        "id": "nJpZH9OTsWYm"
      },
      "source": [
        "Pembentukan Model Training dan Akurasi dari Data Feature Selection"
      ]
    },
    {
      "cell_type": "code",
      "metadata": {
        "id": "5_Yt6wrjsRBA"
      },
      "source": [
        "#Train Model and Predict menggunakan data dengan feature selection\n",
        "knn = KNeighborsClassifier(n_neighbors = 10).fit(X_new_a_train,Y_train)\n",
        "Y_pred = knn.predict(X_new_a_test)\n",
        "\n",
        "# Accuracyfrom sklearn.model_selection import train_test_split\n",
        "from sklearn.neighbors import KNeighborsClassifier\n",
        "from sklearn import metrics"
      ],
      "execution_count": 36,
      "outputs": []
    },
    {
      "cell_type": "markdown",
      "metadata": {
        "id": "lOYPnTfIs35s"
      },
      "source": [
        "Pembentukan Model Training dan Akurasi dari Data PCA"
      ]
    },
    {
      "cell_type": "code",
      "metadata": {
        "colab": {
          "base_uri": "https://localhost:8080/"
        },
        "id": "AOdwp4cTstLQ",
        "outputId": "1d952ac9-8492-4e0b-ea1e-212dea285ee3"
      },
      "source": [
        "from sklearn.model_selection import train_test_split\n",
        "from sklearn.neighbors import KNeighborsClassifier\n",
        "from sklearn import metrics\n",
        "\n",
        "# Train & Test Data PCA\n",
        "X_new_pca_train, X_new_pca_test, Y_train, Y_test = train_test_split( X_new_pca, Y, test_size=0.2, random_state=22, stratify=Y)\n",
        "\n",
        "#Train Model and Predict menggunakan data dengan PCA\n",
        "knn = KNeighborsClassifier(n_neighbors = 25).fit(X_new_pca_train,Y_train)\n",
        "Y_pred = knn.predict(X_new_pca_test)\n",
        "\n",
        "# Accuracy\n",
        "print(\"Train set Accuracy: \", metrics.accuracy_score(Y_train, knn.predict(X_new_pca_train)))\n",
        "print(\"Test set Accuracy: \", metrics.accuracy_score(Y_test, Y_pred))"
      ],
      "execution_count": 37,
      "outputs": [
        {
          "output_type": "stream",
          "name": "stdout",
          "text": [
            "Train set Accuracy:  0.4785185185185185\n",
            "Test set Accuracy:  0.40964875158696573\n"
          ]
        }
      ]
    },
    {
      "cell_type": "markdown",
      "metadata": {
        "id": "wr4Jqn0ms-AS"
      },
      "source": [
        "Pembentukan Model Training dan Akurasi dari Data LDA"
      ]
    },
    {
      "cell_type": "code",
      "metadata": {
        "colab": {
          "base_uri": "https://localhost:8080/"
        },
        "id": "jFDex6K2s8jX",
        "outputId": "9e7a30f3-35b7-40ea-d798-1fe043041d0d"
      },
      "source": [
        "#Train Model and Predict menggunakan data dengan LDA\n",
        "X_new_lda_train, X_new_lda_test, Y_train, Y_test = train_test_split( X_new_lda, Y, test_size=0.2, random_state=22, stratify=Y)\n",
        "\n",
        "#Train Model and Predict menggunakan data dengan LDA\n",
        "knn = KNeighborsClassifier(n_neighbors = 17).fit(X_new_lda_train,Y_train)\n",
        "Y_pred = knn.predict(X_new_lda_test)\n",
        "\n",
        "# Accuracy\n",
        "print(\"Train set Accuracy: \", metrics.accuracy_score(Y_train, knn.predict(X_new_lda_train)))\n",
        "print(\"Test set Accuracy: \", metrics.accuracy_score(Y_test, Y_pred))"
      ],
      "execution_count": 38,
      "outputs": [
        {
          "output_type": "stream",
          "name": "stdout",
          "text": [
            "Train set Accuracy:  0.4702645502645503\n",
            "Test set Accuracy:  0.38975878121032587\n"
          ]
        }
      ]
    }
  ]
}