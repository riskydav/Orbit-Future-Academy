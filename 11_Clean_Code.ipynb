{
  "nbformat": 4,
  "nbformat_minor": 0,
  "metadata": {
    "interpreter": {
      "hash": "b3ba2566441a7c06988d0923437866b63cedc61552a5af99d1f4fb67d367b25f"
    },
    "kernelspec": {
      "display_name": "Python 3",
      "language": "python",
      "name": "python3"
    },
    "language_info": {
      "codemirror_mode": {
        "name": "ipython",
        "version": 3
      },
      "file_extension": ".py",
      "mimetype": "text/x-python",
      "name": "python",
      "nbconvert_exporter": "python",
      "pygments_lexer": "ipython3",
      "version": "3.8.3"
    },
    "colab": {
      "name": "11_Clean-Code.ipynb",
      "provenance": [],
      "collapsed_sections": [],
      "include_colab_link": true
    }
  },
  "cells": [
    {
      "cell_type": "markdown",
      "metadata": {
        "id": "view-in-github",
        "colab_type": "text"
      },
      "source": [
        "<a href=\"https://colab.research.google.com/github/riskydav/Orbit-Future-Academy/blob/main/11_Clean_Code.ipynb\" target=\"_parent\"><img src=\"https://colab.research.google.com/assets/colab-badge.svg\" alt=\"Open In Colab\"/></a>"
      ]
    },
    {
      "cell_type": "markdown",
      "metadata": {
        "id": "rx5CQ4hAwoyS"
      },
      "source": [
        "Rabu, 22 Sept 2021"
      ]
    },
    {
      "cell_type": "markdown",
      "metadata": {
        "id": "fC7a-HmIj4kX"
      },
      "source": [
        "# **Clean Code**"
      ]
    },
    {
      "cell_type": "markdown",
      "metadata": {
        "id": "QIKPKdJuj4kf"
      },
      "source": [
        "## Daftar Pembahasan Materi\n",
        "- Pedoman penulisan program python menggunakan PEP8\n",
        "- Input, proses (pengolahan kolom), output file ke dalam program (csv dan excel)\n",
        "- Python list functions | Fungsi - fungsi pada list python\n",
        "- Pembahasan dan contoh program Stack (FIFO) sederhana\n",
        "- Pembahasan dan contoh program Queue (LIFO) sederhana"
      ]
    },
    {
      "cell_type": "markdown",
      "metadata": {
        "id": "VWAAlTW_j4kg"
      },
      "source": [
        "## Input, Process, Output dataframe\n",
        "- Membuat Data Frame manual -> export ke csv dan xlsx (excel)\n",
        "- Latihan membuat Data Frame (Data 5 calon anggota koperasi sukanabung)"
      ]
    },
    {
      "cell_type": "code",
      "metadata": {
        "id": "UgB2RzV3j4kh"
      },
      "source": [
        "import pandas as pd"
      ],
      "execution_count": 1,
      "outputs": []
    },
    {
      "cell_type": "code",
      "metadata": {
        "id": "cJmJnnCgj4kj"
      },
      "source": [
        "df1 = pd.DataFrame([\n",
        "  [\"Ajeng\", \"P\", 21, \"Belum Menikah\"],\n",
        "  [\"David\", \"L\", 25, \"Belum Menikah\"],\n",
        "  [\"Risky\", \"L\", 22, \"Sudah Menikah\"]\n",
        "])"
      ],
      "execution_count": 4,
      "outputs": []
    },
    {
      "cell_type": "code",
      "metadata": {
        "colab": {
          "base_uri": "https://localhost:8080/",
          "height": 143
        },
        "id": "3eQrOiVvvJQo",
        "outputId": "aa2abaa2-caf9-4025-a921-b3104152ca4a"
      },
      "source": [
        "df1.columns = [\"Nama\", \"Jenis Kelamin\", \"Usia\", \"Status\"]\n",
        "df1"
      ],
      "execution_count": 5,
      "outputs": [
        {
          "output_type": "execute_result",
          "data": {
            "text/html": [
              "<div>\n",
              "<style scoped>\n",
              "    .dataframe tbody tr th:only-of-type {\n",
              "        vertical-align: middle;\n",
              "    }\n",
              "\n",
              "    .dataframe tbody tr th {\n",
              "        vertical-align: top;\n",
              "    }\n",
              "\n",
              "    .dataframe thead th {\n",
              "        text-align: right;\n",
              "    }\n",
              "</style>\n",
              "<table border=\"1\" class=\"dataframe\">\n",
              "  <thead>\n",
              "    <tr style=\"text-align: right;\">\n",
              "      <th></th>\n",
              "      <th>Nama</th>\n",
              "      <th>Jenis Kelamin</th>\n",
              "      <th>Usia</th>\n",
              "      <th>Status</th>\n",
              "    </tr>\n",
              "  </thead>\n",
              "  <tbody>\n",
              "    <tr>\n",
              "      <th>0</th>\n",
              "      <td>Ajeng</td>\n",
              "      <td>P</td>\n",
              "      <td>21</td>\n",
              "      <td>Belum Menikah</td>\n",
              "    </tr>\n",
              "    <tr>\n",
              "      <th>1</th>\n",
              "      <td>David</td>\n",
              "      <td>L</td>\n",
              "      <td>25</td>\n",
              "      <td>Belum Menikah</td>\n",
              "    </tr>\n",
              "    <tr>\n",
              "      <th>2</th>\n",
              "      <td>Risky</td>\n",
              "      <td>L</td>\n",
              "      <td>22</td>\n",
              "      <td>Sudah Menikah</td>\n",
              "    </tr>\n",
              "  </tbody>\n",
              "</table>\n",
              "</div>"
            ],
            "text/plain": [
              "    Nama Jenis Kelamin  Usia         Status\n",
              "0  Ajeng             P    21  Belum Menikah\n",
              "1  David             L    25  Belum Menikah\n",
              "2  Risky             L    22  Sudah Menikah"
            ]
          },
          "metadata": {},
          "execution_count": 5
        }
      ]
    },
    {
      "cell_type": "code",
      "metadata": {
        "id": "ZbSGwYJHj4kn"
      },
      "source": [
        "df1.to_csv('anggota_koperasi_sukanabung.csv')\n",
        "df1.to_excel('anggota_koperasi_sukanabung.xlsx')"
      ],
      "execution_count": 6,
      "outputs": []
    },
    {
      "cell_type": "markdown",
      "metadata": {
        "id": "6_OwAS0Ij4ko"
      },
      "source": [
        "## Fungsi - Fungsi List pada Python\n",
        "- Quiz, studi kasus nyata"
      ]
    },
    {
      "cell_type": "markdown",
      "metadata": {
        "id": "MMU9bi85j4kp"
      },
      "source": [
        "- Bahas tentang fungsi yg ada di list (struktur data) dulu\n",
        "    - `append()`  # Menambahkan elemen di akhir list (hanya 1)\n",
        "    - `extend()`  # Menambahkan banyak elemen di akhir list\n",
        "    - `index()`   # Mencari index dari elemen tertentu yang ada di list\n",
        "    - `max(list)` # Mencari elemen terbesar dari list\n",
        "    - `min(list)` # Mencari elemen terkecil dari list\n",
        "    - `len(list)` # Menghitung jumlah elemen dalam list\n",
        "    - `clear()`   # Menghapus semua elemen dari list\n",
        "    - `insert()`  # Memasukkan elemen baru pada urutan tertentu\n",
        "    - `count()`   # Menghitung jumlah elemen dengan nilai tertentu\n",
        "    - `pop()`     # Menghapus elemen terakhir dari list\n",
        "    - `remove()`  # Menghapus elemen dengan nilai tertentu\n",
        "    - `reverse()` # Membalik urutan elemen dalam list\n",
        "    - `copy()`    # Menduplikat elemen dalam list ke dalam variabel baru\n",
        "    - `sort()`    # Mengurutkan (sorting)\n",
        "\n",
        "- TODO: Teori dan ilustrasi"
      ]
    },
    {
      "cell_type": "code",
      "metadata": {
        "id": "mCBAa00Yj4kq"
      },
      "source": [
        "tumpukan_warna = ['Biru', 'Merah', 'Hijau', 'Ungu', 'Hitam']"
      ],
      "execution_count": 7,
      "outputs": []
    },
    {
      "cell_type": "code",
      "metadata": {
        "id": "CA4LTCM9j4kq",
        "colab": {
          "base_uri": "https://localhost:8080/"
        },
        "outputId": "b977b6ee-e79e-470c-9f30-bdab28924ee9"
      },
      "source": [
        "# append, menambahkan nilai di akhir list (hanya 1 nilai saja)\n",
        "tumpukan_warna.append('Jingga')\n",
        "tumpukan_warna"
      ],
      "execution_count": 8,
      "outputs": [
        {
          "output_type": "execute_result",
          "data": {
            "text/plain": [
              "['Biru', 'Merah', 'Hijau', 'Ungu', 'Hitam', 'Jingga']"
            ]
          },
          "metadata": {},
          "execution_count": 8
        }
      ]
    },
    {
      "cell_type": "code",
      "metadata": {
        "id": "KuOZo1xvj4kr",
        "colab": {
          "base_uri": "https://localhost:8080/"
        },
        "outputId": "578b8c06-1e41-4bd7-f9f8-6ca3594c7f66"
      },
      "source": [
        "# extend, menambahkan banyak elemen di akhir list\n",
        "tumpukan_warna.extend(['Putih', 'Tosca'])\n",
        "tumpukan_warna"
      ],
      "execution_count": 9,
      "outputs": [
        {
          "output_type": "execute_result",
          "data": {
            "text/plain": [
              "['Biru', 'Merah', 'Hijau', 'Ungu', 'Hitam', 'Jingga', 'Putih', 'Tosca']"
            ]
          },
          "metadata": {},
          "execution_count": 9
        }
      ]
    },
    {
      "cell_type": "code",
      "metadata": {
        "id": "ou_wwx7Hj4ks",
        "colab": {
          "base_uri": "https://localhost:8080/"
        },
        "outputId": "443007f6-79e7-4506-ddcd-1c7c8896b0c0"
      },
      "source": [
        "# index, mencari index dari nilai tertentu yang ada di list\n",
        "tumpukan_warna.index('Hijau')"
      ],
      "execution_count": 10,
      "outputs": [
        {
          "output_type": "execute_result",
          "data": {
            "text/plain": [
              "2"
            ]
          },
          "metadata": {},
          "execution_count": 10
        }
      ]
    },
    {
      "cell_type": "code",
      "metadata": {
        "id": "E-ORjbcjj4ks",
        "colab": {
          "base_uri": "https://localhost:8080/",
          "height": 35
        },
        "outputId": "9789df47-3bbb-478f-bc50-5764b0b79989"
      },
      "source": [
        "# min, mencari nilai terkecil dari list\n",
        "min(tumpukan_warna)"
      ],
      "execution_count": 11,
      "outputs": [
        {
          "output_type": "execute_result",
          "data": {
            "application/vnd.google.colaboratory.intrinsic+json": {
              "type": "string"
            },
            "text/plain": [
              "'Biru'"
            ]
          },
          "metadata": {},
          "execution_count": 11
        }
      ]
    },
    {
      "cell_type": "code",
      "metadata": {
        "id": "i5BB2zL4j4kt",
        "colab": {
          "base_uri": "https://localhost:8080/",
          "height": 35
        },
        "outputId": "471da417-71a8-437f-aeee-82f076eddca7"
      },
      "source": [
        "# max, mencari nilai terbesar dari list\n",
        "max(tumpukan_warna)"
      ],
      "execution_count": 12,
      "outputs": [
        {
          "output_type": "execute_result",
          "data": {
            "application/vnd.google.colaboratory.intrinsic+json": {
              "type": "string"
            },
            "text/plain": [
              "'Ungu'"
            ]
          },
          "metadata": {},
          "execution_count": 12
        }
      ]
    },
    {
      "cell_type": "code",
      "metadata": {
        "colab": {
          "base_uri": "https://localhost:8080/"
        },
        "id": "pmG6XlAEz7gz",
        "outputId": "03076ee5-715b-4113-8f09-b510f2c7818d"
      },
      "source": [
        "#sort, mengurutkan\n",
        "tumpukan_warna.sort()\n",
        "print(tumpukan_warna)"
      ],
      "execution_count": 13,
      "outputs": [
        {
          "output_type": "stream",
          "name": "stdout",
          "text": [
            "['Biru', 'Hijau', 'Hitam', 'Jingga', 'Merah', 'Putih', 'Tosca', 'Ungu']\n"
          ]
        }
      ]
    },
    {
      "cell_type": "code",
      "metadata": {
        "id": "5CAsW7mnj4kt",
        "colab": {
          "base_uri": "https://localhost:8080/"
        },
        "outputId": "2353c896-e0b6-4a42-acdb-1058cba3497c"
      },
      "source": [
        "# clear, menghapus semua elemen dari list\n",
        "tumpukan_warna.clear()\n",
        "tumpukan_warna"
      ],
      "execution_count": 14,
      "outputs": [
        {
          "output_type": "execute_result",
          "data": {
            "text/plain": [
              "[]"
            ]
          },
          "metadata": {},
          "execution_count": 14
        }
      ]
    },
    {
      "cell_type": "code",
      "metadata": {
        "id": "_Ur2NSuRj4ku"
      },
      "source": [
        "tumpukan_warna = ['Biru', 'Merah', 'Hijau', 'Ungu', 'Hitam']"
      ],
      "execution_count": 15,
      "outputs": []
    },
    {
      "cell_type": "code",
      "metadata": {
        "id": "lHCXeJY0j4ku",
        "colab": {
          "base_uri": "https://localhost:8080/"
        },
        "outputId": "d0551d37-b1ab-4fe9-e4f3-aac736e6aafa"
      },
      "source": [
        "# len, menghitung jumlah elemen dalam list\n",
        "len(tumpukan_warna)"
      ],
      "execution_count": 16,
      "outputs": [
        {
          "output_type": "execute_result",
          "data": {
            "text/plain": [
              "5"
            ]
          },
          "metadata": {},
          "execution_count": 16
        }
      ]
    },
    {
      "cell_type": "code",
      "metadata": {
        "id": "KHsIpoXoj4ku",
        "colab": {
          "base_uri": "https://localhost:8080/"
        },
        "outputId": "bda40aa9-1b17-4360-a83b-180c26a8d824"
      },
      "source": [
        "# insert, memasukkan elemen baru pada urutan tertentu\n",
        "tumpukan_warna.insert(0, 'Orange')\n",
        "tumpukan_warna"
      ],
      "execution_count": 17,
      "outputs": [
        {
          "output_type": "execute_result",
          "data": {
            "text/plain": [
              "['Orange', 'Biru', 'Merah', 'Hijau', 'Ungu', 'Hitam']"
            ]
          },
          "metadata": {},
          "execution_count": 17
        }
      ]
    },
    {
      "cell_type": "code",
      "metadata": {
        "id": "s9EpdW4Hj4kv",
        "colab": {
          "base_uri": "https://localhost:8080/"
        },
        "outputId": "9adfa811-144e-48b4-daee-ce4c732bc9a5"
      },
      "source": [
        "# remove, menghapus elemen dengan nilai tertentu\n",
        "tumpukan_warna.remove('Orange')\n",
        "tumpukan_warna"
      ],
      "execution_count": 18,
      "outputs": [
        {
          "output_type": "execute_result",
          "data": {
            "text/plain": [
              "['Biru', 'Merah', 'Hijau', 'Ungu', 'Hitam']"
            ]
          },
          "metadata": {},
          "execution_count": 18
        }
      ]
    },
    {
      "cell_type": "code",
      "metadata": {
        "id": "aKNVtL0Xj4kw",
        "colab": {
          "base_uri": "https://localhost:8080/"
        },
        "outputId": "7eedb868-4562-4375-f0e9-dd26ecaac1d3"
      },
      "source": [
        "# reverse, membalik urutan elemen dalam list\n",
        "tumpukan_warna.reverse()\n",
        "tumpukan_warna"
      ],
      "execution_count": 19,
      "outputs": [
        {
          "output_type": "execute_result",
          "data": {
            "text/plain": [
              "['Hitam', 'Ungu', 'Hijau', 'Merah', 'Biru']"
            ]
          },
          "metadata": {},
          "execution_count": 19
        }
      ]
    },
    {
      "cell_type": "code",
      "metadata": {
        "id": "Q9PQvEvzj4kx",
        "colab": {
          "base_uri": "https://localhost:8080/"
        },
        "outputId": "584cb950-bc0f-4a74-9981-9eefb03ea481"
      },
      "source": [
        "# pop, menghapus elemen terakhir dari list\n",
        "tumpukan_warna.pop()\n",
        "tumpukan_warna"
      ],
      "execution_count": 20,
      "outputs": [
        {
          "output_type": "execute_result",
          "data": {
            "text/plain": [
              "['Hitam', 'Ungu', 'Hijau', 'Merah']"
            ]
          },
          "metadata": {},
          "execution_count": 20
        }
      ]
    },
    {
      "cell_type": "code",
      "metadata": {
        "id": "JsPQ94yGj4ky",
        "colab": {
          "base_uri": "https://localhost:8080/"
        },
        "outputId": "24c4165c-5d6e-4f85-c4de-b470e4aa32f2"
      },
      "source": [
        "# count, menghitung jumlah elemen dengan nilai tertentu\n",
        "tumpukan_warna.count('Hitam') # Coba ubah dengan nilai yang lain"
      ],
      "execution_count": 21,
      "outputs": [
        {
          "output_type": "execute_result",
          "data": {
            "text/plain": [
              "1"
            ]
          },
          "metadata": {},
          "execution_count": 21
        }
      ]
    },
    {
      "cell_type": "code",
      "metadata": {
        "id": "k6p-NBKoj4kz",
        "colab": {
          "base_uri": "https://localhost:8080/"
        },
        "outputId": "879cbd35-26dc-4bab-98f4-e9fec058203e"
      },
      "source": [
        "# copy, menduplikat elemen dalam list ke dalam variabel baru\n",
        "tumpukan_warna2 = tumpukan_warna.copy()\n",
        "tumpukan_warna2"
      ],
      "execution_count": 22,
      "outputs": [
        {
          "output_type": "execute_result",
          "data": {
            "text/plain": [
              "['Hitam', 'Ungu', 'Hijau', 'Merah']"
            ]
          },
          "metadata": {},
          "execution_count": 22
        }
      ]
    },
    {
      "cell_type": "code",
      "metadata": {
        "id": "IUYtsmX2j4kz",
        "colab": {
          "base_uri": "https://localhost:8080/"
        },
        "outputId": "23e77a6d-456e-4f43-88da-59482af9ae76"
      },
      "source": [
        "# Perbedaan fungsi copy dan re-assignment \n",
        "a = [1,2,3]\n",
        "\n",
        "# Isi b sama dengan a, tapi sebenarnya b hanya melakukan copy identitas objek a\n",
        "b = a\n",
        "c = a.copy()\n",
        "# Apabila a[0] kita ubah, maka b[0] pun berubah\n",
        "a[0] = 100\n",
        "\n",
        "# Fungsi id() dapat digunakan untuk mengetahui identitas dari suatu objek\n",
        "print(\"ID a:\", id(b))\n",
        "print(\"ID b:\", id(a))\n",
        "print(\"a:\", a)\n",
        "print(\"b:\", b)\n",
        "\n",
        "print(\"ID c:\", id(c))\n",
        "print(\"c:\", c)"
      ],
      "execution_count": 23,
      "outputs": [
        {
          "output_type": "stream",
          "name": "stdout",
          "text": [
            "ID a: 140572856562624\n",
            "ID b: 140572856562624\n",
            "a: [100, 2, 3]\n",
            "b: [100, 2, 3]\n",
            "ID c: 140572856142416\n",
            "c: [1, 2, 3]\n"
          ]
        }
      ]
    },
    {
      "cell_type": "markdown",
      "metadata": {
        "id": "j_ibCI3qj4k0"
      },
      "source": [
        "## Stack (Tumpukan)"
      ]
    },
    {
      "cell_type": "code",
      "metadata": {
        "id": "V1UTz9blj4k0"
      },
      "source": [
        "angka = [1,3,5,3,3,5]"
      ],
      "execution_count": 24,
      "outputs": []
    },
    {
      "cell_type": "code",
      "metadata": {
        "id": "C3Ny4Gdnj4k0",
        "colab": {
          "base_uri": "https://localhost:8080/"
        },
        "outputId": "a1383549-9e6a-44e7-ee8d-035d61e7b1b9"
      },
      "source": [
        "# Stack -> First In Last Out\n",
        "lemari = [\"Sarung\", \"Celana Dasar\", \n",
        "        \"Kemeja Putih\", \"Selimut\"]\n",
        "lemari.append(\"Jaket Hoodie\")\n",
        "print(lemari)"
      ],
      "execution_count": 25,
      "outputs": [
        {
          "output_type": "stream",
          "name": "stdout",
          "text": [
            "['Sarung', 'Celana Dasar', 'Kemeja Putih', 'Selimut', 'Jaket Hoodie']\n"
          ]
        }
      ]
    },
    {
      "cell_type": "code",
      "metadata": {
        "id": "u9Knuyymj4k1",
        "colab": {
          "base_uri": "https://localhost:8080/"
        },
        "outputId": "9729c7b4-de85-45af-c603-e086f7dc8f6a"
      },
      "source": [
        "# Stack -> First In Last Out\n",
        "lemari = [\"Sarung\", \"Celana Dasar\"\n",
        "          , \"Kemeja Putih\", \"Selimut\"\n",
        "          , \"Jaket Hoodie\"\n",
        "         ]\n",
        "lemari.pop()\n",
        "print(lemari)"
      ],
      "execution_count": 26,
      "outputs": [
        {
          "output_type": "stream",
          "name": "stdout",
          "text": [
            "['Sarung', 'Celana Dasar', 'Kemeja Putih', 'Selimut']\n"
          ]
        }
      ]
    },
    {
      "cell_type": "markdown",
      "metadata": {
        "id": "Ez0HhI01j4k1"
      },
      "source": [
        "## Queue (read: qiu)\n",
        "- TODO: Teori dan ilustrasi"
      ]
    },
    {
      "cell_type": "code",
      "metadata": {
        "id": "70DOHb6Rj4k2",
        "colab": {
          "base_uri": "https://localhost:8080/"
        },
        "outputId": "0a35d98f-ce1e-4790-87a5-45c5cfbdfa57"
      },
      "source": [
        "# Queue -> First in First Out\n",
        "antrian_vaksin = [\"Andy\", \"Bobby\", \n",
        "                  \"Caca\", \"Doni\",\n",
        "                  \"Erna\"\n",
        "                 ]\n",
        "antrian_vaksin.append(\"Fani\")\n",
        "print(antrian_vaksin)"
      ],
      "execution_count": 27,
      "outputs": [
        {
          "output_type": "stream",
          "name": "stdout",
          "text": [
            "['Andy', 'Bobby', 'Caca', 'Doni', 'Erna', 'Fani']\n"
          ]
        }
      ]
    },
    {
      "cell_type": "code",
      "metadata": {
        "id": "IuVj-512j4k2",
        "colab": {
          "base_uri": "https://localhost:8080/"
        },
        "outputId": "9260a4cd-1080-4a56-c7bc-5c7e52825117"
      },
      "source": [
        "antrian_vaksin = [\"Andy\", \"Bobby\", \n",
        "                  \"Caca\", \"Doni\",\n",
        "                  \"Erna\", \"Fani\"\n",
        "                 ]\n",
        "antrian_vaksin.pop(0)\n",
        "print(antrian_vaksin)"
      ],
      "execution_count": 28,
      "outputs": [
        {
          "output_type": "stream",
          "name": "stdout",
          "text": [
            "['Bobby', 'Caca', 'Doni', 'Erna', 'Fani']\n"
          ]
        }
      ]
    },
    {
      "cell_type": "markdown",
      "metadata": {
        "id": "8Wk1mAaij4k2"
      },
      "source": [
        "# Activity\n",
        "## 1. Code Refactoring\n",
        "### 1.1 Ubah gaya penulisan kode program berikut sesuai dengan standar PEP8"
      ]
    },
    {
      "cell_type": "code",
      "metadata": {
        "colab": {
          "base_uri": "https://localhost:8080/"
        },
        "id": "cWggYXtLuSwS",
        "outputId": "46512259-ad13-4eab-aeb6-36fe221b62c7"
      },
      "source": [
        "#program untuk menghitung luas dan keliling lingkaran\n",
        "Pi = 3.14\n",
        "\n",
        "def HitungLuasLingkaran(jari_jari):\n",
        "    l = Pi * jari_jari**2\n",
        "    return l\n",
        "\n",
        "def HitungKelilingLingkaran(jari_jari):\n",
        "    kllng = 2 * Pi * jari_jari\n",
        "    return kllng\n",
        "\n",
        "def tampilkan_menu():\n",
        "    print('')\n",
        "    print(\"----------------------------------------------------\")\n",
        "    print( 'Program untuk menghitung luas dan keliling lingkaran')\n",
        "    print( 'Mau ngitung apa nih bre?')\n",
        "    print( '1. Luas Lingkaran')\n",
        "    print( '2. Keliling Lingkaran')\n",
        "    print( '3. Stop Program')\n",
        "    print('')\n",
        "\n",
        "pil = 'bukan 3'\n",
        "while pil != 3:\n",
        "    tampilkan_menu()\n",
        "    pil = input ('Pilihan:')\n",
        "\n",
        "    if pil=='1':\n",
        "        jari_jari = input('Jari Jari:')\n",
        "        jari_jari = float(jari_jari)\n",
        "        hasil = HitungLuasLingkaran(jari_jari)\n",
        "        print(\"Luas Lingkaran:\", hasil )\n",
        "\n",
        "    elif pil== '2':\n",
        "        jari_jari=input ('Jari Jari:')\n",
        "        jari_jari=float (jari_jari)\n",
        "        hsl=HitungKelilingLingkaran(jari_jari)\n",
        "        print(\"Keliling Lingkaran:\", hsl )\n",
        "\n",
        "    elif pil=='3':\n",
        "        print( \"TERIMA KASIH SUDAH MENGGUNAKAN PROGRAM KAMI\")\n",
        "        break\n",
        "\n",
        "    else:\n",
        "        print('Pilihan tidak tersedia')\n",
        "        tampilkan_menu ()"
      ],
      "execution_count": 29,
      "outputs": [
        {
          "output_type": "stream",
          "name": "stdout",
          "text": [
            "\n",
            "----------------------------------------------------\n",
            "Program untuk menghitung luas dan keliling lingkaran\n",
            "Mau ngitung apa nih bre?\n",
            "1. Luas Lingkaran\n",
            "2. Keliling Lingkaran\n",
            "3. Stop Program\n",
            "\n",
            "Pilihan:1\n",
            "Jari Jari:5\n",
            "Luas Lingkaran: 78.5\n",
            "\n",
            "----------------------------------------------------\n",
            "Program untuk menghitung luas dan keliling lingkaran\n",
            "Mau ngitung apa nih bre?\n",
            "1. Luas Lingkaran\n",
            "2. Keliling Lingkaran\n",
            "3. Stop Program\n",
            "\n",
            "Pilihan:1\n",
            "Jari Jari:4\n",
            "Luas Lingkaran: 50.24\n",
            "\n",
            "----------------------------------------------------\n",
            "Program untuk menghitung luas dan keliling lingkaran\n",
            "Mau ngitung apa nih bre?\n",
            "1. Luas Lingkaran\n",
            "2. Keliling Lingkaran\n",
            "3. Stop Program\n",
            "\n",
            "Pilihan:3\n",
            "TERIMA KASIH SUDAH MENGGUNAKAN PROGRAM KAMI\n"
          ]
        }
      ]
    },
    {
      "cell_type": "markdown",
      "metadata": {
        "id": "EI3tFPZD3ejW"
      },
      "source": [
        "### 1.2 Ubah gaya penulisan kode program berikut sesuai dengan standar PEP8"
      ]
    },
    {
      "cell_type": "code",
      "metadata": {
        "id": "vqqf6y-oySiq",
        "colab": {
          "base_uri": "https://localhost:8080/"
        },
        "outputId": "4a8e1a4b-01ad-42f5-a07e-7c352ba3760b"
      },
      "source": [
        "# Main Layangan\n",
        "# Requirement:\n",
        "# - Gak Hujan\n",
        "# - Kecepatan Angin 5 - 30 km/s\n",
        "\n",
        "#Clues:\n",
        "# - Naming variable dan function, whitespace, komentar\n",
        "# - Terdapat kode duplikat, coba perbaiki\n",
        "\n",
        "def main_layangan():\n",
        "  hujan = input (\"lagi ujan ga? (y/n)\")\n",
        "  if hujan =='y' or hujan== 'Y':\n",
        "    hujan = True\n",
        "  else:\n",
        "    hujan =False\n",
        "\n",
        "  kecepatan__angin = int( input ('masukkan kecepatan angin'))\n",
        "\n",
        "  if hujan == True:\n",
        "    print('Gak bisa main layangan')\n",
        "    return False\n",
        "  else:\n",
        "    if kecepatan__angin >=5 and kecepatan__angin<= 30:\n",
        "      print( 'Asiik, gass main layangan')\n",
        "      return True\n",
        "    else:\n",
        "      print('Skip, mending main ep ep' )\n",
        "      return False\n",
        "\n",
        "capek = main_layangan()\n",
        "\n",
        "if capek ==True:\n",
        "  print(\"Istirahat\" )\n",
        "else:\n",
        "  print (\"Gass main ep ep\")"
      ],
      "execution_count": 30,
      "outputs": [
        {
          "output_type": "stream",
          "name": "stdout",
          "text": [
            "lagi ujan ga? (y/n)y\n",
            "masukkan kecepatan angin30\n",
            "Gak bisa main layangan\n",
            "Gass main ep ep\n"
          ]
        }
      ]
    },
    {
      "cell_type": "markdown",
      "metadata": {
        "id": "T_62CS4pvl3O"
      },
      "source": [
        "## 2. Memilih delegasi Tim Sudirman Cup dari Indonesia\n",
        "\n",
        "Berikut adalah data nama pemain bulu tangkis Indonesia beserta medali yang sudah diraih selama 2020 - 2021: \n"
      ]
    },
    {
      "cell_type": "code",
      "metadata": {
        "id": "S-IH1y1Uj4k3"
      },
      "source": [
        "pemain_dan_medali = [[7, \"Ginting\"], [5, \"Jonathan C.\"], [9,\" Hendra\"], [9,\" Ahsan\"], [8, \"Markus\"], [8, \"Kevin\"], [4, \"Gregoria\"], \n",
        "                     [6, \"Praven\"], [6, \"Melati\"], [7, \"Greysia\"], [7, \"Apriani\"], [5, \"Putri\"], [5, \"Rian\"], [5, \"Fajar\"]]                    "
      ],
      "execution_count": 31,
      "outputs": []
    },
    {
      "cell_type": "markdown",
      "metadata": {
        "id": "xmKFzuRgxB_S"
      },
      "source": [
        "> Buatlah program seleksi pemain bulu tangkis untuk Tim Sudirman dengan menerapkan konsep `Clean Code`"
      ]
    },
    {
      "cell_type": "code",
      "metadata": {
        "id": "dXKm2My10I5i",
        "colab": {
          "base_uri": "https://localhost:8080/"
        },
        "outputId": "6aefc5ee-0eab-430d-a735-cd54b09dcc81"
      },
      "source": [
        "# Buat list baru dengan mengurutkan list diatas berdasarkan medali yang diraih dari yang paling banyak\n",
        "print(sorted(pemain_dan_medali,key=lambda x: x[0],reverse=True))"
      ],
      "execution_count": 32,
      "outputs": [
        {
          "output_type": "stream",
          "name": "stdout",
          "text": [
            "[[9, ' Hendra'], [9, ' Ahsan'], [8, 'Markus'], [8, 'Kevin'], [7, 'Ginting'], [7, 'Greysia'], [7, 'Apriani'], [6, 'Praven'], [6, 'Melati'], [5, 'Jonathan C.'], [5, 'Putri'], [5, 'Rian'], [5, 'Fajar'], [4, 'Gregoria']]\n"
          ]
        }
      ]
    },
    {
      "cell_type": "code",
      "metadata": {
        "colab": {
          "base_uri": "https://localhost:8080/"
        },
        "id": "lBlTCvgRCPgd",
        "outputId": "4336909a-f324-499d-fe4f-e2522a170459"
      },
      "source": [
        "# Dengan looping, buatlah 2 list terpisah dari pemain dan juga medalinya, namun urutannya harus tetap sama dengan yang diatas\n",
        "list_2 = sorted(pemain_dan_medali,key=lambda x: x[0],reverse=True)\n",
        "\n",
        "list_1 = []\n",
        "list_3 = []\n",
        "\n",
        "for i in range(len(list_2)):\n",
        "  for j in range(1):\n",
        "    list_1.append(list_2[i][1])\n",
        "\n",
        "for i in range(len(list_2)):\n",
        "  for j in range(1):\n",
        "    list_3.append(list_2[i][0])\n",
        "\n",
        "print(list_1)\n",
        "print(list_3)"
      ],
      "execution_count": 33,
      "outputs": [
        {
          "output_type": "stream",
          "name": "stdout",
          "text": [
            "[' Hendra', ' Ahsan', 'Markus', 'Kevin', 'Ginting', 'Greysia', 'Apriani', 'Praven', 'Melati', 'Jonathan C.', 'Putri', 'Rian', 'Fajar', 'Gregoria']\n",
            "[9, 9, 8, 8, 7, 7, 7, 6, 6, 5, 5, 5, 5, 4]\n"
          ]
        }
      ]
    },
    {
      "cell_type": "code",
      "metadata": {
        "colab": {
          "base_uri": "https://localhost:8080/"
        },
        "id": "tMUP_1QM_DcR",
        "outputId": "e6cdaa61-7d05-4b3a-a967-7f533980c265"
      },
      "source": [
        "#Tambahan (urutan list dimulai dari medali yang paling sedikit)\n",
        "print(sorted(pemain_dan_medali))\n",
        "sorted(pemain_dan_medali)"
      ],
      "execution_count": 34,
      "outputs": [
        {
          "output_type": "stream",
          "name": "stdout",
          "text": [
            "[[4, 'Gregoria'], [5, 'Fajar'], [5, 'Jonathan C.'], [5, 'Putri'], [5, 'Rian'], [6, 'Melati'], [6, 'Praven'], [7, 'Apriani'], [7, 'Ginting'], [7, 'Greysia'], [8, 'Kevin'], [8, 'Markus'], [9, ' Ahsan'], [9, ' Hendra']]\n"
          ]
        },
        {
          "output_type": "execute_result",
          "data": {
            "text/plain": [
              "[[4, 'Gregoria'],\n",
              " [5, 'Fajar'],\n",
              " [5, 'Jonathan C.'],\n",
              " [5, 'Putri'],\n",
              " [5, 'Rian'],\n",
              " [6, 'Melati'],\n",
              " [6, 'Praven'],\n",
              " [7, 'Apriani'],\n",
              " [7, 'Ginting'],\n",
              " [7, 'Greysia'],\n",
              " [8, 'Kevin'],\n",
              " [8, 'Markus'],\n",
              " [9, ' Ahsan'],\n",
              " [9, ' Hendra']]"
            ]
          },
          "metadata": {},
          "execution_count": 34
        }
      ]
    },
    {
      "cell_type": "markdown",
      "metadata": {
        "id": "dix7KA7P04RL"
      },
      "source": [
        "Misalkan Rio dan Dewi adalah pemain baru dengan perolehan medali : [2, \"Rio\"], [5, \"Dewi\"]. Jika maksimal 1 tim hanya 14 pemain, buatlah fungsi baru yang dapat memeriksa apakah Rio dan Dewi bisa menjadi pemain baru jika dibandingkan perolehan medalinya dengan squad tim saat ini. Output:\n",
        "\n",
        "\"Nama\" layak/tidak layak bergabung\n",
        "Tim Sudirman cup indonesia = \"list pemain yg layak\""
      ]
    }
  ]
}